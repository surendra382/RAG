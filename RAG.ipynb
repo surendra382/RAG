{
  "nbformat": 4,
  "nbformat_minor": 0,
  "metadata": {
    "colab": {
      "provenance": []
    },
    "kernelspec": {
      "name": "python3",
      "display_name": "Python 3"
    },
    "language_info": {
      "name": "python"
    }
  },
  "cells": [
    {
      "cell_type": "code",
      "execution_count": 2,
      "metadata": {
        "id": "-FeJjdbBh5Qj"
      },
      "outputs": [],
      "source": [
        "pip install -Uq langchain langchain-community langchain-chroma langchain-groq langchain-openai"
      ]
    },
    {
      "cell_type": "code",
      "source": [
        "pip install pypdf"
      ],
      "metadata": {
        "id": "fPq7WkYqjN_z"
      },
      "execution_count": null,
      "outputs": []
    },
    {
      "cell_type": "code",
      "source": [
        "import os\n",
        "from google.colab import userdata\n"
      ],
      "metadata": {
        "id": "4JAeGcNsjSbs"
      },
      "execution_count": 7,
      "outputs": []
    },
    {
      "cell_type": "code",
      "source": [
        "os.environ['GROQ_API_KEY']=userdata.get('GROQ_API_KEY')\n",
        "os.environ['LANGCHAIN_API_KEY']=userdata.get('LANGCHAIN_API_KEY')\n",
        "os.environ['OPENAI_API_KEY']=userdata.get('OPENAI_API_KEY')"
      ],
      "metadata": {
        "id": "nw-FpnLljoZ8"
      },
      "execution_count": 8,
      "outputs": []
    },
    {
      "cell_type": "code",
      "source": [
        "from langchain_community.document_loaders import PyPDFLoader\n",
        "from langchain_chroma import Chroma\n",
        "from langchain_openai import OpenAIEmbeddings\n",
        "from langchain_text_splitters import RecursiveCharacterTextSplitter\n",
        "from langchain_core.output_parsers import StrOutputParser\n",
        "from langchain_core.runnables import RunnablePassthrough"
      ],
      "metadata": {
        "id": "kjJ6ubGRkeT4"
      },
      "execution_count": 9,
      "outputs": []
    },
    {
      "cell_type": "code",
      "source": [
        "%ls"
      ],
      "metadata": {
        "colab": {
          "base_uri": "https://localhost:8080/"
        },
        "id": "r3lzUri2lgmU",
        "outputId": "98977cca-f455-437c-d1e3-299b58637bd1"
      },
      "execution_count": 10,
      "outputs": [
        {
          "output_type": "stream",
          "name": "stdout",
          "text": [
            "\u001b[0m\u001b[01;34msample_data\u001b[0m/  SaranAILabs2.pdf\n"
          ]
        }
      ]
    },
    {
      "cell_type": "code",
      "source": [
        "loader = PyPDFLoader(\"SaranAILabs2.pdf\")\n",
        "docs = loader.load()"
      ],
      "metadata": {
        "id": "izvyFFNLlp-e"
      },
      "execution_count": 11,
      "outputs": []
    },
    {
      "cell_type": "code",
      "source": [
        "len(docs)"
      ],
      "metadata": {
        "colab": {
          "base_uri": "https://localhost:8080/"
        },
        "id": "vQwVqzsSl0LK",
        "outputId": "6c9105ca-2c44-41f1-b327-b623007ef535"
      },
      "execution_count": 12,
      "outputs": [
        {
          "output_type": "execute_result",
          "data": {
            "text/plain": [
              "4"
            ]
          },
          "metadata": {},
          "execution_count": 12
        }
      ]
    },
    {
      "cell_type": "code",
      "source": [
        "print(docs[3].page_content)"
      ],
      "metadata": {
        "colab": {
          "base_uri": "https://localhost:8080/"
        },
        "id": "-OQ8SCHTl_SB",
        "outputId": "e883ac3a-699a-4c3f-ddbd-02b30a4e79b1"
      },
      "execution_count": 16,
      "outputs": [
        {
          "output_type": "stream",
          "name": "stdout",
          "text": [
            " \n",
            "Page 10: Contact Information \n",
            "For any queries or support, you can reach out to the following: \n",
            "1. HR Department: hr@saranailabs.com \n",
            "2. IT Support: it-support@saranailabs.com \n",
            "3. General Queries: contact@saranailabs.com \n",
            "Office Address: Saran AI Labs Noida, Uttar Pradesh, India \n",
            "Let’s innovate and grow together! Welcome aboard! \n",
            " \n",
            " \n"
          ]
        }
      ]
    },
    {
      "cell_type": "code",
      "source": [
        "text_splitter = RecursiveCharacterTextSplitter(chunk_size=500, chunk_overlap=100)\n",
        "splits = text_splitter.split_documents(docs)"
      ],
      "metadata": {
        "id": "nrqFSVcemD0c"
      },
      "execution_count": 17,
      "outputs": []
    },
    {
      "cell_type": "code",
      "source": [
        "len(splits)"
      ],
      "metadata": {
        "colab": {
          "base_uri": "https://localhost:8080/"
        },
        "id": "2CdFUQRSm0NP",
        "outputId": "a82e9c35-f0bd-4783-9e6b-2c1a67cfe800"
      },
      "execution_count": 18,
      "outputs": [
        {
          "output_type": "execute_result",
          "data": {
            "text/plain": [
              "12"
            ]
          },
          "metadata": {},
          "execution_count": 18
        }
      ]
    },
    {
      "cell_type": "code",
      "source": [
        "print(splits[0].page_content)"
      ],
      "metadata": {
        "colab": {
          "base_uri": "https://localhost:8080/"
        },
        "id": "AIE-4G55m22R",
        "outputId": "76a855a9-2510-4fbf-c9fa-4f9ea106d7e1"
      },
      "execution_count": 20,
      "outputs": [
        {
          "output_type": "stream",
          "name": "stdout",
          "text": [
            "Welcome to Saran AI Labs \n",
            " \n",
            "Page 1: About Saran AI Labs \n",
            "Saran AI Labs is a pioneering organization dedicated to advancing the field of Generative AI and its \n",
            "applications. Founded with the mission to innovate and empower businesses through cutting-edge \n",
            "AI solutions, we focus on: \n",
            "• Building AI-driven applications for diverse industries. \n",
            "• Researching and developing state-of-the-art machine learning models. \n",
            "• Empowering individuals and organizations with AI education and consulting.\n"
          ]
        }
      ]
    },
    {
      "cell_type": "code",
      "source": [
        "print(splits[1].page_content)"
      ],
      "metadata": {
        "colab": {
          "base_uri": "https://localhost:8080/"
        },
        "id": "U2onyaZ4m7yf",
        "outputId": "7ce749f8-9776-4b64-80c6-75a0ec0fa2a4"
      },
      "execution_count": 21,
      "outputs": [
        {
          "output_type": "stream",
          "name": "stdout",
          "text": [
            "• Empowering individuals and organizations with AI education and consulting. \n",
            "Our headquarters is located in Noida, India, and we serve clients worldwide. At Saran AI Labs, we \n",
            "pride ourselves on fostering a collaborative and innovative environment for our employees and \n",
            "partners. \n",
            " \n",
            "Page 2: Our Vision and Mission \n",
            "Vision: To be a global leader in Generative AI technology, transforming ideas into impactful solutions. \n",
            "Mission: \n",
            "• Deliver exceptional AI-powered solutions to our clients.\n"
          ]
        }
      ]
    },
    {
      "cell_type": "code",
      "source": [
        "vectorstore = Chroma.from_documents(documents=splits, embedding=OpenAIEmbeddings())"
      ],
      "metadata": {
        "id": "m1A6MS87nBRS"
      },
      "execution_count": 22,
      "outputs": []
    },
    {
      "cell_type": "code",
      "source": [
        "retreiver = vectorstore.as_retriever()"
      ],
      "metadata": {
        "id": "EVoThZCYnqqF"
      },
      "execution_count": 23,
      "outputs": []
    },
    {
      "cell_type": "code",
      "source": [
        "response = retreiver.invoke(\"what is SaranAI?\")"
      ],
      "metadata": {
        "id": "3CdHbSJ8n25o"
      },
      "execution_count": 24,
      "outputs": []
    },
    {
      "cell_type": "code",
      "source": [
        "print(response[0].page_content)"
      ],
      "metadata": {
        "colab": {
          "base_uri": "https://localhost:8080/"
        },
        "id": "5LiWqwUqoGAJ",
        "outputId": "f47642ed-88b0-46da-8c14-8bbada27882e"
      },
      "execution_count": 27,
      "outputs": [
        {
          "output_type": "stream",
          "name": "stdout",
          "text": [
            "Welcome to Saran AI Labs \n",
            " \n",
            "Page 1: About Saran AI Labs \n",
            "Saran AI Labs is a pioneering organization dedicated to advancing the field of Generative AI and its \n",
            "applications. Founded with the mission to innovate and empower businesses through cutting-edge \n",
            "AI solutions, we focus on: \n",
            "• Building AI-driven applications for diverse industries. \n",
            "• Researching and developing state-of-the-art machine learning models. \n",
            "• Empowering individuals and organizations with AI education and consulting.\n"
          ]
        }
      ]
    },
    {
      "cell_type": "code",
      "source": [
        "from langchain_core.prompts import ChatPromptTemplate\n",
        "\n",
        "# Define a custom prompt template\n",
        "prompt_template = \"\"\"\n",
        "You are an onboarding assistant for Saran AI labs that answers questions based on the context provided below.\n",
        "\n",
        "Context:\n",
        "{context}\n",
        "\n",
        "Question: {question}\n",
        "\n",
        "Please provide a detailed and accurate answer based on the given context.\n",
        "\"\"\"\n",
        "\n",
        "prompt = ChatPromptTemplate.from_template(prompt_template)"
      ],
      "metadata": {
        "id": "x1fykQizoHZX"
      },
      "execution_count": 28,
      "outputs": []
    },
    {
      "cell_type": "code",
      "source": [
        "# Function to format the retrieved documents for the prompt\n",
        "def format_docs(docs):\n",
        "    return \"\\n\\n\".join(doc.page_content for doc in docs)"
      ],
      "metadata": {
        "id": "Be_A9odrpxN9"
      },
      "execution_count": 29,
      "outputs": []
    },
    {
      "cell_type": "code",
      "source": [
        "from langchain_groq import ChatGroq"
      ],
      "metadata": {
        "id": "DgRPa53Nqn0_"
      },
      "execution_count": 32,
      "outputs": []
    },
    {
      "cell_type": "code",
      "source": [
        "llm = ChatGroq(model='llama-3.3-70b-versatile')"
      ],
      "metadata": {
        "id": "AmN8Wd7yqa-o"
      },
      "execution_count": 33,
      "outputs": []
    },
    {
      "cell_type": "code",
      "source": [
        "# Define the RAG chain\n",
        "rag_chain = (\n",
        "      {\n",
        "          \"context\": retreiver | format_docs,\n",
        "          \"question\": RunnablePassthrough()\n",
        "      }\n",
        "    | prompt\n",
        "    | llm\n",
        "    | StrOutputParser()\n",
        ")"
      ],
      "metadata": {
        "id": "xheqCFYWqIws"
      },
      "execution_count": 36,
      "outputs": []
    },
    {
      "cell_type": "code",
      "source": [
        "resp = rag_chain.invoke(\"tell me about Saran AI labs\")"
      ],
      "metadata": {
        "id": "KuFhWcNYrVtd"
      },
      "execution_count": 38,
      "outputs": []
    },
    {
      "cell_type": "code",
      "source": [
        "print(resp)"
      ],
      "metadata": {
        "colab": {
          "base_uri": "https://localhost:8080/"
        },
        "id": "fmLQ6-FOra5v",
        "outputId": "7c73d479-089e-45cf-8051-84c1e9b1a8c3"
      },
      "execution_count": 39,
      "outputs": [
        {
          "output_type": "stream",
          "name": "stdout",
          "text": [
            "Welcome to Saran AI Labs. I'd be happy to provide you with an overview of our organization.\n",
            "\n",
            "Saran AI Labs is a pioneering organization that is dedicated to advancing the field of Generative AI and its applications. Our mission is multifaceted, with a focus on:\n",
            "\n",
            "1. **Building AI-driven applications**: We develop cutting-edge AI solutions for diverse industries, aiming to empower businesses through innovative technology.\n",
            "2. **Research and development**: Our team is committed to researching and developing state-of-the-art machine learning models, pushing the boundaries of what is possible in the field of AI.\n",
            "3. **Education and consulting**: We empower individuals and organizations by providing AI education and consulting services, helping them to harness the power of AI and stay ahead of the curve.\n",
            "\n",
            "Our core mission is built around three key objectives:\n",
            "\n",
            "* **Delivering exceptional AI-powered solutions**: We strive to provide our clients with the best possible AI solutions, tailored to their specific needs and goals.\n",
            "* **Empowering professionals**: We believe in empowering professionals through AI training and mentorship, helping them to develop the skills and expertise needed to succeed in the field of AI.\n",
            "* **Leading innovation**: We aim to be at the forefront of innovation in Generative AI research and applications, driving progress and advancement in the field.\n",
            "\n",
            "As an organization, we prioritize the well-being and professional growth of our employees, offering a range of benefits, including comprehensive health insurance coverage, wellness programs, and opportunities for learning and development. Our employees have access to workshops, webinars, certification programs, knowledge sharing forums, and research opportunities, helping them to stay up-to-date with the latest advancements in AI and machine learning.\n",
            "\n",
            "If you have any further questions or would like to learn more about Saran AI Labs, please don't hesitate to reach out to us. You can contact our HR department at hr@saranailabs.com, IT support at it-support@saranailabs.com, or general queries at contact@saranailabs.com. Our office is located in Noida, Uttar Pradesh, India. We look forward to innovating and growing together!\n"
          ]
        }
      ]
    },
    {
      "cell_type": "code",
      "source": [],
      "metadata": {
        "id": "nMQ4Lwewr-iy"
      },
      "execution_count": null,
      "outputs": []
    }
  ]
}