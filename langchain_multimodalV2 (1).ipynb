{
  "cells": [
    {
      "cell_type": "markdown",
      "id": "812a4dbc-fe04-4b84-bdf9-390045e30806",
      "metadata": {
        "id": "812a4dbc-fe04-4b84-bdf9-390045e30806"
      },
      "source": [
        "# Multi-modal RAG with LangChain"
      ]
    },
    {
      "cell_type": "markdown",
      "id": "ecXPgawqG7XH",
      "metadata": {
        "id": "ecXPgawqG7XH"
      },
      "source": [
        "## SetUp\n",
        "\n",
        "Install the dependencies you need to run the notebook."
      ]
    },
    {
      "cell_type": "code",
      "execution_count": 2,
      "id": "133b74f6",
      "metadata": {
        "id": "133b74f6",
        "colab": {
          "base_uri": "https://localhost:8080/"
        },
        "outputId": "e61b6f8f-5a06-47ee-e198-61496da6a461"
      },
      "outputs": [
        {
          "output_type": "stream",
          "name": "stdout",
          "text": [
            "Get:1 https://cloud.r-project.org/bin/linux/ubuntu jammy-cran40/ InRelease [3,632 B]\n",
            "Get:2 https://developer.download.nvidia.com/compute/cuda/repos/ubuntu2204/x86_64  InRelease [1,581 B]\n",
            "Hit:3 http://archive.ubuntu.com/ubuntu jammy InRelease\n",
            "Get:4 http://archive.ubuntu.com/ubuntu jammy-updates InRelease [128 kB]\n",
            "Get:5 https://r2u.stat.illinois.edu/ubuntu jammy InRelease [6,555 B]\n",
            "Get:6 http://archive.ubuntu.com/ubuntu jammy-backports InRelease [127 kB]\n",
            "Get:7 http://security.ubuntu.com/ubuntu jammy-security InRelease [129 kB]\n",
            "Get:8 https://developer.download.nvidia.com/compute/cuda/repos/ubuntu2204/x86_64  Packages [1,381 kB]\n",
            "Hit:9 https://ppa.launchpadcontent.net/deadsnakes/ppa/ubuntu jammy InRelease\n",
            "Hit:10 https://ppa.launchpadcontent.net/graphics-drivers/ppa/ubuntu jammy InRelease\n",
            "Hit:11 https://ppa.launchpadcontent.net/ubuntugis/ppa/ubuntu jammy InRelease\n",
            "Get:12 https://r2u.stat.illinois.edu/ubuntu jammy/main amd64 Packages [2,688 kB]\n",
            "Get:13 http://archive.ubuntu.com/ubuntu jammy-updates/universe amd64 Packages [1,540 kB]\n",
            "Get:14 http://archive.ubuntu.com/ubuntu jammy-updates/restricted amd64 Packages [4,148 kB]\n",
            "Get:15 https://r2u.stat.illinois.edu/ubuntu jammy/main all Packages [8,809 kB]\n",
            "Get:16 http://archive.ubuntu.com/ubuntu jammy-updates/main amd64 Packages [3,092 kB]\n",
            "Get:17 http://security.ubuntu.com/ubuntu jammy-security/restricted amd64 Packages [3,978 kB]\n",
            "Get:18 http://security.ubuntu.com/ubuntu jammy-security/universe amd64 Packages [1,241 kB]\n",
            "Get:19 http://security.ubuntu.com/ubuntu jammy-security/main amd64 Packages [2,775 kB]\n",
            "Fetched 30.0 MB in 4s (7,796 kB/s)\n",
            "Reading package lists... Done\n",
            "W: Skipping acquire of configured file 'main/source/Sources' as repository 'https://r2u.stat.illinois.edu/ubuntu jammy InRelease' does not seem to provide it (sources.list entry misspelt?)\n",
            "Reading package lists... Done\n",
            "Building dependency tree... Done\n",
            "Reading state information... Done\n",
            "The following additional packages will be installed:\n",
            "  tesseract-ocr-eng tesseract-ocr-osd\n",
            "The following NEW packages will be installed:\n",
            "  libmagic-dev poppler-utils tesseract-ocr tesseract-ocr-eng tesseract-ocr-osd\n",
            "0 upgraded, 5 newly installed, 0 to remove and 44 not upgraded.\n",
            "Need to get 5,107 kB of archives.\n",
            "After this operation, 16.7 MB of additional disk space will be used.\n",
            "Get:1 http://archive.ubuntu.com/ubuntu jammy-updates/main amd64 libmagic-dev amd64 1:5.41-3ubuntu0.1 [105 kB]\n",
            "Get:2 http://archive.ubuntu.com/ubuntu jammy-updates/main amd64 poppler-utils amd64 22.02.0-2ubuntu0.6 [186 kB]\n",
            "Get:3 http://archive.ubuntu.com/ubuntu jammy/universe amd64 tesseract-ocr-eng all 1:4.00~git30-7274cfa-1.1 [1,591 kB]\n",
            "Get:4 http://archive.ubuntu.com/ubuntu jammy/universe amd64 tesseract-ocr-osd all 1:4.00~git30-7274cfa-1.1 [2,990 kB]\n",
            "Get:5 http://archive.ubuntu.com/ubuntu jammy/universe amd64 tesseract-ocr amd64 4.1.1-2.1build1 [236 kB]\n",
            "Fetched 5,107 kB in 0s (16.8 MB/s)\n",
            "Selecting previously unselected package libmagic-dev:amd64.\n",
            "(Reading database ... 126213 files and directories currently installed.)\n",
            "Preparing to unpack .../libmagic-dev_1%3a5.41-3ubuntu0.1_amd64.deb ...\n",
            "Unpacking libmagic-dev:amd64 (1:5.41-3ubuntu0.1) ...\n",
            "Selecting previously unselected package poppler-utils.\n",
            "Preparing to unpack .../poppler-utils_22.02.0-2ubuntu0.6_amd64.deb ...\n",
            "Unpacking poppler-utils (22.02.0-2ubuntu0.6) ...\n",
            "Selecting previously unselected package tesseract-ocr-eng.\n",
            "Preparing to unpack .../tesseract-ocr-eng_1%3a4.00~git30-7274cfa-1.1_all.deb ...\n",
            "Unpacking tesseract-ocr-eng (1:4.00~git30-7274cfa-1.1) ...\n",
            "Selecting previously unselected package tesseract-ocr-osd.\n",
            "Preparing to unpack .../tesseract-ocr-osd_1%3a4.00~git30-7274cfa-1.1_all.deb ...\n",
            "Unpacking tesseract-ocr-osd (1:4.00~git30-7274cfa-1.1) ...\n",
            "Selecting previously unselected package tesseract-ocr.\n",
            "Preparing to unpack .../tesseract-ocr_4.1.1-2.1build1_amd64.deb ...\n",
            "Unpacking tesseract-ocr (4.1.1-2.1build1) ...\n",
            "Setting up tesseract-ocr-eng (1:4.00~git30-7274cfa-1.1) ...\n",
            "Setting up libmagic-dev:amd64 (1:5.41-3ubuntu0.1) ...\n",
            "Setting up tesseract-ocr-osd (1:4.00~git30-7274cfa-1.1) ...\n",
            "Setting up poppler-utils (22.02.0-2ubuntu0.6) ...\n",
            "Setting up tesseract-ocr (4.1.1-2.1build1) ...\n",
            "Processing triggers for man-db (2.10.2-1) ...\n"
          ]
        }
      ],
      "source": [
        "# for linux\n",
        "#%sudo apt-get install poppler-utils tesseract-ocr libmagic-dev\n",
        "!apt-get update && apt-get install -y poppler-utils tesseract-ocr libmagic-dev\n",
        "# for mac\n",
        "# %brew install poppler tesseract libmagic"
      ]
    },
    {
      "cell_type": "code",
      "execution_count": 3,
      "id": "2nDWBTrhn-_M",
      "metadata": {
        "id": "2nDWBTrhn-_M",
        "colab": {
          "base_uri": "https://localhost:8080/"
        },
        "outputId": "eaeea118-166a-4925-e31c-0969db767bd4"
      },
      "outputs": [
        {
          "output_type": "stream",
          "name": "stdout",
          "text": [
            "\u001b[?25l     \u001b[90m━━━━━━━━━━━━━━━━━━━━━━━━━━━━━━━━━━━━━━━━\u001b[0m \u001b[32m0.0/981.5 kB\u001b[0m \u001b[31m?\u001b[0m eta \u001b[36m-:--:--\u001b[0m\r\u001b[2K     \u001b[91m━━━━━━━━━━━━━━━\u001b[0m\u001b[90m╺\u001b[0m\u001b[90m━━━━━━━━━━━━━━━━━━━━━━━━\u001b[0m \u001b[32m368.6/981.5 kB\u001b[0m \u001b[31m10.8 MB/s\u001b[0m eta \u001b[36m0:00:01\u001b[0m\r\u001b[2K     \u001b[90m━━━━━━━━━━━━━━━━━━━━━━━━━━━━━━━━━━━━━━━━\u001b[0m \u001b[32m981.5/981.5 kB\u001b[0m \u001b[31m15.3 MB/s\u001b[0m eta \u001b[36m0:00:00\u001b[0m\n",
            "\u001b[?25h  Preparing metadata (setup.py) ... \u001b[?25l\u001b[?25hdone\n",
            "\u001b[2K     \u001b[90m━━━━━━━━━━━━━━━━━━━━━━━━━━━━━━━━━━━━━━━━\u001b[0m \u001b[32m48.2/48.2 kB\u001b[0m \u001b[31m3.8 MB/s\u001b[0m eta \u001b[36m0:00:00\u001b[0m\n",
            "\u001b[2K     \u001b[90m━━━━━━━━━━━━━━━━━━━━━━━━━━━━━━━━━━━━━━━━\u001b[0m \u001b[32m117.0/117.0 kB\u001b[0m \u001b[31m9.4 MB/s\u001b[0m eta \u001b[36m0:00:00\u001b[0m\n",
            "\u001b[?25h  Preparing metadata (setup.py) ... \u001b[?25l\u001b[?25hdone\n",
            "\u001b[2K   \u001b[90m━━━━━━━━━━━━━━━━━━━━━━━━━━━━━━━━━━━━━━━━\u001b[0m \u001b[32m16.0/16.0 MB\u001b[0m \u001b[31m89.0 MB/s\u001b[0m eta \u001b[36m0:00:00\u001b[0m\n",
            "\u001b[2K   \u001b[90m━━━━━━━━━━━━━━━━━━━━━━━━━━━━━━━━━━━━━━━━\u001b[0m \u001b[32m16.0/16.0 MB\u001b[0m \u001b[31m86.4 MB/s\u001b[0m eta \u001b[36m0:00:00\u001b[0m\n",
            "\u001b[2K   \u001b[90m━━━━━━━━━━━━━━━━━━━━━━━━━━━━━━━━━━━━━━━━\u001b[0m \u001b[32m244.3/244.3 kB\u001b[0m \u001b[31m19.4 MB/s\u001b[0m eta \u001b[36m0:00:00\u001b[0m\n",
            "\u001b[2K   \u001b[90m━━━━━━━━━━━━━━━━━━━━━━━━━━━━━━━━━━━━━━━━\u001b[0m \u001b[32m472.8/472.8 kB\u001b[0m \u001b[31m24.8 MB/s\u001b[0m eta \u001b[36m0:00:00\u001b[0m\n",
            "\u001b[2K   \u001b[90m━━━━━━━━━━━━━━━━━━━━━━━━━━━━━━━━━━━━━━━━\u001b[0m \u001b[32m48.9/48.9 kB\u001b[0m \u001b[31m2.5 MB/s\u001b[0m eta \u001b[36m0:00:00\u001b[0m\n",
            "\u001b[2K   \u001b[90m━━━━━━━━━━━━━━━━━━━━━━━━━━━━━━━━━━━━━━━━\u001b[0m \u001b[32m112.5/112.5 kB\u001b[0m \u001b[31m9.2 MB/s\u001b[0m eta \u001b[36m0:00:00\u001b[0m\n",
            "\u001b[2K   \u001b[90m━━━━━━━━━━━━━━━━━━━━━━━━━━━━━━━━━━━━━━━━\u001b[0m \u001b[32m590.6/590.6 kB\u001b[0m \u001b[31m35.6 MB/s\u001b[0m eta \u001b[36m0:00:00\u001b[0m\n",
            "\u001b[2K   \u001b[90m━━━━━━━━━━━━━━━━━━━━━━━━━━━━━━━━━━━━━━━━\u001b[0m \u001b[32m526.1/526.1 kB\u001b[0m \u001b[31m29.4 MB/s\u001b[0m eta \u001b[36m0:00:00\u001b[0m\n",
            "\u001b[2K   \u001b[90m━━━━━━━━━━━━━━━━━━━━━━━━━━━━━━━━━━━━━━━━\u001b[0m \u001b[32m5.6/5.6 MB\u001b[0m \u001b[31m78.6 MB/s\u001b[0m eta \u001b[36m0:00:00\u001b[0m\n",
            "\u001b[2K   \u001b[90m━━━━━━━━━━━━━━━━━━━━━━━━━━━━━━━━━━━━━━━━\u001b[0m \u001b[32m1.2/1.2 MB\u001b[0m \u001b[31m55.9 MB/s\u001b[0m eta \u001b[36m0:00:00\u001b[0m\n",
            "\u001b[2K   \u001b[90m━━━━━━━━━━━━━━━━━━━━━━━━━━━━━━━━━━━━━━━━\u001b[0m \u001b[32m2.4/2.4 MB\u001b[0m \u001b[31m67.5 MB/s\u001b[0m eta \u001b[36m0:00:00\u001b[0m\n",
            "\u001b[2K   \u001b[90m━━━━━━━━━━━━━━━━━━━━━━━━━━━━━━━━━━━━━━━━\u001b[0m \u001b[32m302.3/302.3 kB\u001b[0m \u001b[31m20.1 MB/s\u001b[0m eta \u001b[36m0:00:00\u001b[0m\n",
            "\u001b[2K   \u001b[90m━━━━━━━━━━━━━━━━━━━━━━━━━━━━━━━━━━━━━━━━\u001b[0m \u001b[32m167.6/167.6 kB\u001b[0m \u001b[31m11.5 MB/s\u001b[0m eta \u001b[36m0:00:00\u001b[0m\n",
            "\u001b[2K   \u001b[90m━━━━━━━━━━━━━━━━━━━━━━━━━━━━━━━━━━━━━━━━\u001b[0m \u001b[32m3.1/3.1 MB\u001b[0m \u001b[31m79.9 MB/s\u001b[0m eta \u001b[36m0:00:00\u001b[0m\n",
            "\u001b[2K   \u001b[90m━━━━━━━━━━━━━━━━━━━━━━━━━━━━━━━━━━━━━━━━\u001b[0m \u001b[32m1.8/1.8 MB\u001b[0m \u001b[31m62.3 MB/s\u001b[0m eta \u001b[36m0:00:00\u001b[0m\n",
            "\u001b[2K   \u001b[90m━━━━━━━━━━━━━━━━━━━━━━━━━━━━━━━━━━━━━━━━\u001b[0m \u001b[32m180.5/180.5 kB\u001b[0m \u001b[31m11.7 MB/s\u001b[0m eta \u001b[36m0:00:00\u001b[0m\n",
            "\u001b[2K   \u001b[90m━━━━━━━━━━━━━━━━━━━━━━━━━━━━━━━━━━━━━━━━\u001b[0m \u001b[32m50.9/50.9 kB\u001b[0m \u001b[31m3.4 MB/s\u001b[0m eta \u001b[36m0:00:00\u001b[0m\n",
            "\u001b[2K   \u001b[90m━━━━━━━━━━━━━━━━━━━━━━━━━━━━━━━━━━━━━━━━\u001b[0m \u001b[32m79.5/79.5 kB\u001b[0m \u001b[31m5.7 MB/s\u001b[0m eta \u001b[36m0:00:00\u001b[0m\n",
            "\u001b[2K   \u001b[90m━━━━━━━━━━━━━━━━━━━━━━━━━━━━━━━━━━━━━━━━\u001b[0m \u001b[32m363.4/363.4 MB\u001b[0m \u001b[31m4.5 MB/s\u001b[0m eta \u001b[36m0:00:00\u001b[0m\n",
            "\u001b[2K   \u001b[90m━━━━━━━━━━━━━━━━━━━━━━━━━━━━━━━━━━━━━━━━\u001b[0m \u001b[32m13.8/13.8 MB\u001b[0m \u001b[31m100.7 MB/s\u001b[0m eta \u001b[36m0:00:00\u001b[0m\n",
            "\u001b[2K   \u001b[90m━━━━━━━━━━━━━━━━━━━━━━━━━━━━━━━━━━━━━━━━\u001b[0m \u001b[32m24.6/24.6 MB\u001b[0m \u001b[31m69.8 MB/s\u001b[0m eta \u001b[36m0:00:00\u001b[0m\n",
            "\u001b[2K   \u001b[90m━━━━━━━━━━━━━━━━━━━━━━━━━━━━━━━━━━━━━━━━\u001b[0m \u001b[32m883.7/883.7 kB\u001b[0m \u001b[31m43.8 MB/s\u001b[0m eta \u001b[36m0:00:00\u001b[0m\n",
            "\u001b[2K   \u001b[90m━━━━━━━━━━━━━━━━━━━━━━━━━━━━━━━━━━━━━━━━\u001b[0m \u001b[32m664.8/664.8 MB\u001b[0m \u001b[31m1.2 MB/s\u001b[0m eta \u001b[36m0:00:00\u001b[0m\n",
            "\u001b[2K   \u001b[90m━━━━━━━━━━━━━━━━━━━━━━━━━━━━━━━━━━━━━━━━\u001b[0m \u001b[32m211.5/211.5 MB\u001b[0m \u001b[31m6.0 MB/s\u001b[0m eta \u001b[36m0:00:00\u001b[0m\n",
            "\u001b[2K   \u001b[90m━━━━━━━━━━━━━━━━━━━━━━━━━━━━━━━━━━━━━━━━\u001b[0m \u001b[32m56.3/56.3 MB\u001b[0m \u001b[31m12.2 MB/s\u001b[0m eta \u001b[36m0:00:00\u001b[0m\n",
            "\u001b[2K   \u001b[90m━━━━━━━━━━━━━━━━━━━━━━━━━━━━━━━━━━━━━━━━\u001b[0m \u001b[32m127.9/127.9 MB\u001b[0m \u001b[31m7.4 MB/s\u001b[0m eta \u001b[36m0:00:00\u001b[0m\n",
            "\u001b[2K   \u001b[90m━━━━━━━━━━━━━━━━━━━━━━━━━━━━━━━━━━━━━━━━\u001b[0m \u001b[32m207.5/207.5 MB\u001b[0m \u001b[31m6.1 MB/s\u001b[0m eta \u001b[36m0:00:00\u001b[0m\n",
            "\u001b[2K   \u001b[90m━━━━━━━━━━━━━━━━━━━━━━━━━━━━━━━━━━━━━━━━\u001b[0m \u001b[32m21.1/21.1 MB\u001b[0m \u001b[31m83.1 MB/s\u001b[0m eta \u001b[36m0:00:00\u001b[0m\n",
            "\u001b[2K   \u001b[90m━━━━━━━━━━━━━━━━━━━━━━━━━━━━━━━━━━━━━━━━\u001b[0m \u001b[32m165.1/165.1 kB\u001b[0m \u001b[31m12.7 MB/s\u001b[0m eta \u001b[36m0:00:00\u001b[0m\n",
            "\u001b[2K   \u001b[90m━━━━━━━━━━━━━━━━━━━━━━━━━━━━━━━━━━━━━━━━\u001b[0m \u001b[32m46.0/46.0 kB\u001b[0m \u001b[31m3.2 MB/s\u001b[0m eta \u001b[36m0:00:00\u001b[0m\n",
            "\u001b[2K   \u001b[90m━━━━━━━━━━━━━━━━━━━━━━━━━━━━━━━━━━━━━━━━\u001b[0m \u001b[32m114.6/114.6 kB\u001b[0m \u001b[31m8.2 MB/s\u001b[0m eta \u001b[36m0:00:00\u001b[0m\n",
            "\u001b[2K   \u001b[90m━━━━━━━━━━━━━━━━━━━━━━━━━━━━━━━━━━━━━━━━\u001b[0m \u001b[32m2.9/2.9 MB\u001b[0m \u001b[31m79.1 MB/s\u001b[0m eta \u001b[36m0:00:00\u001b[0m\n",
            "\u001b[2K   \u001b[90m━━━━━━━━━━━━━━━━━━━━━━━━━━━━━━━━━━━━━━━━\u001b[0m \u001b[32m86.8/86.8 kB\u001b[0m \u001b[31m6.4 MB/s\u001b[0m eta \u001b[36m0:00:00\u001b[0m\n",
            "\u001b[?25h  Building wheel for langdetect (setup.py) ... \u001b[?25l\u001b[?25hdone\n",
            "  Building wheel for antlr4-python3-runtime (setup.py) ... \u001b[?25l\u001b[?25hdone\n",
            "\u001b[2K     \u001b[90m━━━━━━━━━━━━━━━━━━━━━━━━━━━━━━━━━━━━━━━━\u001b[0m \u001b[32m67.3/67.3 kB\u001b[0m \u001b[31m3.3 MB/s\u001b[0m eta \u001b[36m0:00:00\u001b[0m\n",
            "\u001b[?25h  Installing build dependencies ... \u001b[?25l\u001b[?25hdone\n",
            "  Getting requirements to build wheel ... \u001b[?25l\u001b[?25hdone\n",
            "  Preparing metadata (pyproject.toml) ... \u001b[?25l\u001b[?25hdone\n",
            "\u001b[2K   \u001b[90m━━━━━━━━━━━━━━━━━━━━━━━━━━━━━━━━━━━━━━━━\u001b[0m \u001b[32m18.0/18.0 MB\u001b[0m \u001b[31m84.5 MB/s\u001b[0m eta \u001b[36m0:00:00\u001b[0m\n",
            "\u001b[2K   \u001b[90m━━━━━━━━━━━━━━━━━━━━━━━━━━━━━━━━━━━━━━━━\u001b[0m \u001b[32m2.4/2.4 MB\u001b[0m \u001b[31m73.9 MB/s\u001b[0m eta \u001b[36m0:00:00\u001b[0m\n",
            "\u001b[2K   \u001b[90m━━━━━━━━━━━━━━━━━━━━━━━━━━━━━━━━━━━━━━━━\u001b[0m \u001b[32m94.9/94.9 kB\u001b[0m \u001b[31m6.7 MB/s\u001b[0m eta \u001b[36m0:00:00\u001b[0m\n",
            "\u001b[2K   \u001b[90m━━━━━━━━━━━━━━━━━━━━━━━━━━━━━━━━━━━━━━━━\u001b[0m \u001b[32m1.2/1.2 MB\u001b[0m \u001b[31m48.9 MB/s\u001b[0m eta \u001b[36m0:00:00\u001b[0m\n",
            "\u001b[2K   \u001b[90m━━━━━━━━━━━━━━━━━━━━━━━━━━━━━━━━━━━━━━━━\u001b[0m \u001b[32m284.2/284.2 kB\u001b[0m \u001b[31m19.6 MB/s\u001b[0m eta \u001b[36m0:00:00\u001b[0m\n",
            "\u001b[2K   \u001b[90m━━━━━━━━━━━━━━━━━━━━━━━━━━━━━━━━━━━━━━━━\u001b[0m \u001b[32m2.0/2.0 MB\u001b[0m \u001b[31m62.2 MB/s\u001b[0m eta \u001b[36m0:00:00\u001b[0m\n",
            "\u001b[2K   \u001b[90m━━━━━━━━━━━━━━━━━━━━━━━━━━━━━━━━━━━━━━━━\u001b[0m \u001b[32m101.6/101.6 kB\u001b[0m \u001b[31m7.4 MB/s\u001b[0m eta \u001b[36m0:00:00\u001b[0m\n",
            "\u001b[2K   \u001b[90m━━━━━━━━━━━━━━━━━━━━━━━━━━━━━━━━━━━━━━━━\u001b[0m \u001b[32m55.9/55.9 kB\u001b[0m \u001b[31m3.8 MB/s\u001b[0m eta \u001b[36m0:00:00\u001b[0m\n",
            "\u001b[2K   \u001b[90m━━━━━━━━━━━━━━━━━━━━━━━━━━━━━━━━━━━━━━━━\u001b[0m \u001b[32m85.0/85.0 kB\u001b[0m \u001b[31m6.5 MB/s\u001b[0m eta \u001b[36m0:00:00\u001b[0m\n",
            "\u001b[2K   \u001b[90m━━━━━━━━━━━━━━━━━━━━━━━━━━━━━━━━━━━━━━━━\u001b[0m \u001b[32m62.3/62.3 kB\u001b[0m \u001b[31m4.3 MB/s\u001b[0m eta \u001b[36m0:00:00\u001b[0m\n",
            "\u001b[2K   \u001b[90m━━━━━━━━━━━━━━━━━━━━━━━━━━━━━━━━━━━━━━━━\u001b[0m \u001b[32m459.8/459.8 kB\u001b[0m \u001b[31m26.6 MB/s\u001b[0m eta \u001b[36m0:00:00\u001b[0m\n",
            "\u001b[2K   \u001b[90m━━━━━━━━━━━━━━━━━━━━━━━━━━━━━━━━━━━━━━━━\u001b[0m \u001b[32m71.5/71.5 kB\u001b[0m \u001b[31m4.9 MB/s\u001b[0m eta \u001b[36m0:00:00\u001b[0m\n",
            "\u001b[2K   \u001b[90m━━━━━━━━━━━━━━━━━━━━━━━━━━━━━━━━━━━━━━━━\u001b[0m \u001b[32m4.0/4.0 MB\u001b[0m \u001b[31m87.6 MB/s\u001b[0m eta \u001b[36m0:00:00\u001b[0m\n",
            "\u001b[2K   \u001b[90m━━━━━━━━━━━━━━━━━━━━━━━━━━━━━━━━━━━━━━━━\u001b[0m \u001b[32m452.6/452.6 kB\u001b[0m \u001b[31m28.5 MB/s\u001b[0m eta \u001b[36m0:00:00\u001b[0m\n",
            "\u001b[?25h  Building wheel for pypika (pyproject.toml) ... \u001b[?25l\u001b[?25hdone\n",
            "\u001b[2K   \u001b[90m━━━━━━━━━━━━━━━━━━━━━━━━━━━━━━━━━━━━━━━━\u001b[0m \u001b[32m1.0/1.0 MB\u001b[0m \u001b[31m15.1 MB/s\u001b[0m eta \u001b[36m0:00:00\u001b[0m\n",
            "\u001b[2K   \u001b[90m━━━━━━━━━━━━━━━━━━━━━━━━━━━━━━━━━━━━━━━━\u001b[0m \u001b[32m2.5/2.5 MB\u001b[0m \u001b[31m58.5 MB/s\u001b[0m eta \u001b[36m0:00:00\u001b[0m\n",
            "\u001b[2K   \u001b[90m━━━━━━━━━━━━━━━━━━━━━━━━━━━━━━━━━━━━━━━━\u001b[0m \u001b[32m61.3/61.3 kB\u001b[0m \u001b[31m996.5 kB/s\u001b[0m eta \u001b[36m0:00:00\u001b[0m\n",
            "\u001b[2K   \u001b[90m━━━━━━━━━━━━━━━━━━━━━━━━━━━━━━━━━━━━━━━━\u001b[0m \u001b[32m126.7/126.7 kB\u001b[0m \u001b[31m8.7 MB/s\u001b[0m eta \u001b[36m0:00:00\u001b[0m\n",
            "\u001b[2K   \u001b[90m━━━━━━━━━━━━━━━━━━━━━━━━━━━━━━━━━━━━━━━━\u001b[0m \u001b[32m423.3/423.3 kB\u001b[0m \u001b[31m25.8 MB/s\u001b[0m eta \u001b[36m0:00:00\u001b[0m\n",
            "\u001b[?25h"
          ]
        }
      ],
      "source": [
        "%pip install -Uq \"unstructured[all-docs]\" pillow lxml pillow\n",
        "%pip install -Uq chromadb tiktoken\n",
        "%pip install -Uq langchain langchain-community langchain-openai langchain-groq\n",
        "%pip install -Uq python_dotenv\n"
      ]
    },
    {
      "cell_type": "code",
      "source": [
        "from google.colab import userdata"
      ],
      "metadata": {
        "id": "98YE3llntOd7"
      },
      "id": "98YE3llntOd7",
      "execution_count": 4,
      "outputs": []
    },
    {
      "cell_type": "code",
      "execution_count": 5,
      "id": "91106e31",
      "metadata": {
        "id": "91106e31"
      },
      "outputs": [],
      "source": [
        "import os\n",
        "\n",
        "# keys for the services we will use\n",
        "\n",
        "os.environ[\"OPENAI_API_KEY\"] = userdata.get('OPENAI_API_KEY')\n",
        "os.environ[\"GROQ_API_KEY\"] = userdata.get('GROQ_API_KEY')\n",
        "os.environ[\"LANGCHAIN_API_KEY\"] = userdata.get('LANGCHAIN_API_KEY')\n",
        "os.environ[\"LANGCHAIN_TRACING_V2\"] = \"true\"\n"
      ]
    },
    {
      "cell_type": "markdown",
      "id": "74b56bde-1ba0-4525-a11d-cab02c5659e4",
      "metadata": {
        "id": "74b56bde-1ba0-4525-a11d-cab02c5659e4"
      },
      "source": [
        "## Extract the data\n",
        "\n",
        "Extract the elements of the PDF that we will be able to use in the retrieval process. These elements can be: Text, Images, Tables, etc."
      ]
    },
    {
      "cell_type": "markdown",
      "id": "e62ec070",
      "metadata": {
        "id": "e62ec070"
      },
      "source": [
        "### Partition PDF tables, text, and images"
      ]
    },
    {
      "cell_type": "code",
      "source": [
        "import nltk\n",
        "\n",
        "nltk.download('punkt_tab')"
      ],
      "metadata": {
        "colab": {
          "base_uri": "https://localhost:8080/"
        },
        "id": "eAQc9Trzu4Qk",
        "outputId": "a17e5466-67d4-42d1-f872-6029d01c79d2"
      },
      "id": "eAQc9Trzu4Qk",
      "execution_count": 6,
      "outputs": [
        {
          "output_type": "stream",
          "name": "stderr",
          "text": [
            "[nltk_data] Downloading package punkt_tab to /root/nltk_data...\n",
            "[nltk_data]   Unzipping tokenizers/punkt_tab.zip.\n"
          ]
        },
        {
          "output_type": "execute_result",
          "data": {
            "text/plain": [
              "True"
            ]
          },
          "metadata": {},
          "execution_count": 6
        }
      ]
    },
    {
      "cell_type": "code",
      "source": [
        "nltk.download('averaged_perceptron_tagger_eng')"
      ],
      "metadata": {
        "colab": {
          "base_uri": "https://localhost:8080/"
        },
        "id": "EF8iULvkxfTu",
        "outputId": "f0ed13cf-00e6-41b8-fb36-d0f050a1ed12"
      },
      "id": "EF8iULvkxfTu",
      "execution_count": 7,
      "outputs": [
        {
          "output_type": "stream",
          "name": "stderr",
          "text": [
            "[nltk_data] Downloading package averaged_perceptron_tagger_eng to\n",
            "[nltk_data]     /root/nltk_data...\n",
            "[nltk_data]   Unzipping taggers/averaged_perceptron_tagger_eng.zip.\n"
          ]
        },
        {
          "output_type": "execute_result",
          "data": {
            "text/plain": [
              "True"
            ]
          },
          "metadata": {},
          "execution_count": 7
        }
      ]
    },
    {
      "cell_type": "code",
      "execution_count": 9,
      "id": "0a046528-8d22-4f4e-a520-962026562939",
      "metadata": {
        "id": "0a046528-8d22-4f4e-a520-962026562939",
        "scrolled": true,
        "colab": {
          "base_uri": "https://localhost:8080/",
          "height": 708,
          "referenced_widgets": [
            "571694e9beea43f1844a3b56d0864127",
            "9eb84ea5371a46c684d9c7cabfa0a617",
            "7374272ac43e4d48aa91c7dcf2947d20",
            "1b60499733d7448293b4dd5034387e21",
            "24f0b9923dd043cf8351f296bf62e26d",
            "9de36ee84da44af98e7e8ebeb840561f",
            "110731341a38481694a8370593f5e612",
            "361b06786d11449bbb5bd02dfde2fa5e",
            "473cc46554e242868f7b3703073504c5",
            "900e066949854743acb73b191e1466b3",
            "e416571b398f4c51860732bf63eaeb9e",
            "64d8bbc6584d4eb18abf5145adde792a",
            "04d5c48111ff4adb92ad37ef1ec9f1ba",
            "93f93a5937e24dffa2a9cba4fc932698",
            "acf7fad6ee1e42d9bbcea41e54f5f747",
            "69a270166fcb483d9d4ef4cad3496b78",
            "cac301eedd084fe695e5b1f81c06be57",
            "8e9919beeefa4475885ddd8220e64ba4",
            "4fbb1fd2567c443bb0e1f86caf5625d5",
            "fd010a320a494ea2a48360ca00df7560",
            "2512d4be293746f3a6e16f0a01792a4d",
            "429880a72e634adb89048091c530c516",
            "0fa092ad2be749d29c5975ad0744b242",
            "a1ce47932e0a421c98aa3706fdd9b3aa",
            "83f72a515e934797b90b6ca0d1b66ee1",
            "67800b6ffd504572ac9ebe45e1e8ed2a",
            "ad215f957a914d0297b70b43b1081d2e",
            "a60e6e40aad1413fa51cfb592eef7861",
            "0da9fe878d3042f6aea7a5abd832b652",
            "da698dab9270462cba9cbb037c0acf33",
            "efa37a8402ff467cbcf2d970b8570f5e",
            "13a23a4924494ac8a3b927750f475d80",
            "8bea663c4b614385a90335a7918f3f31"
          ]
        },
        "outputId": "a43b8de8-87d9-4e58-b0e5-9d4bd13c6de9"
      },
      "outputs": [
        {
          "output_type": "stream",
          "name": "stderr",
          "text": [
            "WARNING:pdfminer.pdfpage:CropBox missing from /Page, defaulting to MediaBox\n",
            "WARNING:pdfminer.pdfpage:CropBox missing from /Page, defaulting to MediaBox\n",
            "WARNING:pdfminer.pdfpage:CropBox missing from /Page, defaulting to MediaBox\n",
            "WARNING:pdfminer.pdfpage:CropBox missing from /Page, defaulting to MediaBox\n",
            "WARNING:pdfminer.pdfpage:CropBox missing from /Page, defaulting to MediaBox\n",
            "WARNING:pdfminer.pdfpage:CropBox missing from /Page, defaulting to MediaBox\n",
            "WARNING:pdfminer.pdfpage:CropBox missing from /Page, defaulting to MediaBox\n",
            "WARNING:pdfminer.pdfpage:CropBox missing from /Page, defaulting to MediaBox\n",
            "WARNING:pdfminer.pdfpage:CropBox missing from /Page, defaulting to MediaBox\n",
            "WARNING:pdfminer.pdfpage:CropBox missing from /Page, defaulting to MediaBox\n",
            "WARNING:pdfminer.pdfpage:CropBox missing from /Page, defaulting to MediaBox\n",
            "WARNING:pdfminer.pdfpage:CropBox missing from /Page, defaulting to MediaBox\n",
            "WARNING:pdfminer.pdfpage:CropBox missing from /Page, defaulting to MediaBox\n",
            "WARNING:pdfminer.pdfpage:CropBox missing from /Page, defaulting to MediaBox\n",
            "WARNING:pdfminer.pdfpage:CropBox missing from /Page, defaulting to MediaBox\n",
            "WARNING:pdfminer.pdfpage:CropBox missing from /Page, defaulting to MediaBox\n",
            "WARNING:pdfminer.pdfpage:CropBox missing from /Page, defaulting to MediaBox\n",
            "WARNING:pdfminer.pdfpage:CropBox missing from /Page, defaulting to MediaBox\n",
            "WARNING:pdfminer.pdfpage:CropBox missing from /Page, defaulting to MediaBox\n",
            "WARNING:pdfminer.pdfpage:CropBox missing from /Page, defaulting to MediaBox\n",
            "WARNING:pdfminer.pdfpage:CropBox missing from /Page, defaulting to MediaBox\n",
            "WARNING:pdfminer.pdfpage:CropBox missing from /Page, defaulting to MediaBox\n",
            "WARNING:pdfminer.pdfpage:CropBox missing from /Page, defaulting to MediaBox\n",
            "WARNING:pdfminer.pdfpage:CropBox missing from /Page, defaulting to MediaBox\n",
            "WARNING:pdfminer.pdfpage:CropBox missing from /Page, defaulting to MediaBox\n",
            "WARNING:pdfminer.pdfpage:CropBox missing from /Page, defaulting to MediaBox\n",
            "WARNING:pdfminer.pdfpage:CropBox missing from /Page, defaulting to MediaBox\n",
            "WARNING:pdfminer.pdfpage:CropBox missing from /Page, defaulting to MediaBox\n",
            "WARNING:pdfminer.pdfpage:CropBox missing from /Page, defaulting to MediaBox\n",
            "WARNING:pdfminer.pdfpage:CropBox missing from /Page, defaulting to MediaBox\n"
          ]
        },
        {
          "output_type": "display_data",
          "data": {
            "text/plain": [
              "config.json:   0%|          | 0.00/1.47k [00:00<?, ?B/s]"
            ],
            "application/vnd.jupyter.widget-view+json": {
              "version_major": 2,
              "version_minor": 0,
              "model_id": "571694e9beea43f1844a3b56d0864127"
            }
          },
          "metadata": {}
        },
        {
          "output_type": "stream",
          "name": "stderr",
          "text": [
            "Xet Storage is enabled for this repo, but the 'hf_xet' package is not installed. Falling back to regular HTTP download. For better performance, install the package with: `pip install huggingface_hub[hf_xet]` or `pip install hf_xet`\n",
            "WARNING:huggingface_hub.file_download:Xet Storage is enabled for this repo, but the 'hf_xet' package is not installed. Falling back to regular HTTP download. For better performance, install the package with: `pip install huggingface_hub[hf_xet]` or `pip install hf_xet`\n"
          ]
        },
        {
          "output_type": "display_data",
          "data": {
            "text/plain": [
              "model.safetensors:   0%|          | 0.00/115M [00:00<?, ?B/s]"
            ],
            "application/vnd.jupyter.widget-view+json": {
              "version_major": 2,
              "version_minor": 0,
              "model_id": "64d8bbc6584d4eb18abf5145adde792a"
            }
          },
          "metadata": {}
        },
        {
          "output_type": "display_data",
          "data": {
            "text/plain": [
              "model.safetensors:   0%|          | 0.00/46.8M [00:00<?, ?B/s]"
            ],
            "application/vnd.jupyter.widget-view+json": {
              "version_major": 2,
              "version_minor": 0,
              "model_id": "0fa092ad2be749d29c5975ad0744b242"
            }
          },
          "metadata": {}
        }
      ],
      "source": [
        "from unstructured.partition.pdf import partition_pdf\n",
        "\n",
        "output_path = \"./content/images\"\n",
        "#file_path = output_path + 'attention.pdf'\n",
        "file_path = 'attention.pdf'\n",
        "\n",
        "# Reference: https://docs.unstructured.io/open-source/core-functionality/chunking\n",
        "chunks = partition_pdf(\n",
        "    filename=file_path,\n",
        "    infer_table_structure=True,            # extract tables\n",
        "    strategy=\"hi_res\",                     # mandatory to infer tables\n",
        "\n",
        "    extract_image_block_types=[\"Image\"],   # Add 'Table' to list to extract image of tables\n",
        "    image_output_dir_path=output_path,   # if None, images and tables will saved in base64\n",
        "\n",
        "    extract_image_block_to_payload=True,   # if true, will extract base64 for API usage\n",
        "\n",
        "    chunking_strategy=\"by_title\",          # or 'basic'\n",
        "    max_characters=10000,                  # defaults to 500\n",
        "    combine_text_under_n_chars=2000,       # defaults to 0\n",
        "    new_after_n_chars=6000,\n",
        "\n",
        "    extract_images_in_pdf=True,          # deprecated\n",
        ")"
      ]
    },
    {
      "cell_type": "code",
      "execution_count": 10,
      "id": "038f6733",
      "metadata": {
        "id": "038f6733",
        "outputId": "39f6df57-8c3e-4286-e490-b6f420c9eab8",
        "colab": {
          "base_uri": "https://localhost:8080/"
        }
      },
      "outputs": [
        {
          "output_type": "execute_result",
          "data": {
            "text/plain": [
              "{\"<class 'unstructured.documents.elements.CompositeElement'>\"}"
            ]
          },
          "metadata": {},
          "execution_count": 10
        }
      ],
      "source": [
        "# We get 2 types of elements from the partition_pdf function\n",
        "set([str(type(el)) for el in chunks])"
      ]
    },
    {
      "cell_type": "code",
      "source": [
        "len(chunks)"
      ],
      "metadata": {
        "colab": {
          "base_uri": "https://localhost:8080/"
        },
        "id": "goE53NFf9NRo",
        "outputId": "8363fc35-8ad0-4bdc-f578-9fc61e1962da"
      },
      "id": "goE53NFf9NRo",
      "execution_count": 11,
      "outputs": [
        {
          "output_type": "execute_result",
          "data": {
            "text/plain": [
              "12"
            ]
          },
          "metadata": {},
          "execution_count": 11
        }
      ]
    },
    {
      "cell_type": "code",
      "execution_count": 12,
      "id": "cccca0db",
      "metadata": {
        "id": "cccca0db",
        "outputId": "48ea43b2-a6e6-43fb-fb60-bd25e9edcb0a",
        "colab": {
          "base_uri": "https://localhost:8080/"
        }
      },
      "outputs": [
        {
          "output_type": "execute_result",
          "data": {
            "text/plain": [
              "<unstructured.documents.elements.CompositeElement at 0x7fa71a47ad10>"
            ]
          },
          "metadata": {},
          "execution_count": 12
        }
      ],
      "source": [
        "# Each CompositeElement containes a bunch of related elements.\n",
        "# This makes it easy to use these elements together in a RAG pipeline.\n",
        "\n",
        "chunks[10]"
      ]
    },
    {
      "cell_type": "code",
      "source": [
        "elements = chunks[10].metadata"
      ],
      "metadata": {
        "id": "YRveaWjhyJkK"
      },
      "id": "YRveaWjhyJkK",
      "execution_count": 13,
      "outputs": []
    },
    {
      "cell_type": "code",
      "source": [
        "type(chunks[10])"
      ],
      "metadata": {
        "colab": {
          "base_uri": "https://localhost:8080/",
          "height": 238
        },
        "id": "aYk56qTwzAc5",
        "outputId": "a06271b8-b4aa-4a27-a455-571d8ed84fc1"
      },
      "id": "aYk56qTwzAc5",
      "execution_count": 14,
      "outputs": [
        {
          "output_type": "execute_result",
          "data": {
            "text/plain": [
              "unstructured.documents.elements.CompositeElement"
            ],
            "text/html": [
              "<div style=\"max-width:800px; border: 1px solid var(--colab-border-color);\"><style>\n",
              "      pre.function-repr-contents {\n",
              "        overflow-x: auto;\n",
              "        padding: 8px 12px;\n",
              "        max-height: 500px;\n",
              "      }\n",
              "\n",
              "      pre.function-repr-contents.function-repr-contents-collapsed {\n",
              "        cursor: pointer;\n",
              "        max-height: 100px;\n",
              "      }\n",
              "    </style>\n",
              "    <pre style=\"white-space: initial; background:\n",
              "         var(--colab-secondary-surface-color); padding: 8px 12px;\n",
              "         border-bottom: 1px solid var(--colab-border-color);\"><b>unstructured.documents.elements.CompositeElement</b><br/>def __init__(text: str, element_id: Optional[str]=None, coordinates: Optional[tuple[tuple[float, float], ...]]=None, coordinate_system: Optional[CoordinateSystem]=None, metadata: Optional[ElementMetadata]=None, detection_origin: Optional[str]=None, embeddings: Optional[list[float]]=None)</pre><pre class=\"function-repr-contents function-repr-contents-collapsed\" style=\"\"><a class=\"filepath\" style=\"display:none\" href=\"#\">/usr/local/lib/python3.11/dist-packages/unstructured/documents/elements.py</a>A chunk formed from text (non-Table) elements.\n",
              "\n",
              "Only produced by chunking. An instance may be formed by combining one or more sequential\n",
              "elements produced by partitioning. It it also used when text-splitting an &quot;oversized&quot; element,\n",
              "a single element that by itself is larger than the requested chunk size.</pre>\n",
              "      <script>\n",
              "      if (google.colab.kernel.accessAllowed && google.colab.files && google.colab.files.view) {\n",
              "        for (const element of document.querySelectorAll('.filepath')) {\n",
              "          element.style.display = 'block'\n",
              "          element.onclick = (event) => {\n",
              "            event.preventDefault();\n",
              "            event.stopPropagation();\n",
              "            google.colab.files.view(element.textContent, 876);\n",
              "          };\n",
              "        }\n",
              "      }\n",
              "      for (const element of document.querySelectorAll('.function-repr-contents')) {\n",
              "        element.onclick = (event) => {\n",
              "          event.preventDefault();\n",
              "          event.stopPropagation();\n",
              "          element.classList.toggle('function-repr-contents-collapsed');\n",
              "        };\n",
              "      }\n",
              "      </script>\n",
              "      </div>"
            ]
          },
          "metadata": {},
          "execution_count": 14
        }
      ]
    },
    {
      "cell_type": "code",
      "source": [
        "elements.to_dict()"
      ],
      "metadata": {
        "colab": {
          "base_uri": "https://localhost:8080/"
        },
        "id": "UBiMvJBvyMfM",
        "outputId": "d89eb8c9-914d-4a77-fcea-31101ae58ff5"
      },
      "id": "UBiMvJBvyMfM",
      "execution_count": 15,
      "outputs": [
        {
          "output_type": "execute_result",
          "data": {
            "text/plain": [
              "{'filetype': 'application/pdf',\n",
              " 'languages': ['eng'],\n",
              " 'last_modified': '2025-04-05T15:28:30',\n",
              " 'page_number': 10,\n",
              " 'orig_elements': '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',\n",
              " 'filename': 'attention.pdf'}"
            ]
          },
          "metadata": {},
          "execution_count": 15
        }
      ]
    },
    {
      "cell_type": "code",
      "execution_count": 16,
      "id": "b8766f03",
      "metadata": {
        "id": "b8766f03",
        "outputId": "35931067-44b6-42dd-8b48-820abaa6b8af",
        "colab": {
          "base_uri": "https://localhost:8080/"
        }
      },
      "outputs": [
        {
          "output_type": "execute_result",
          "data": {
            "text/plain": [
              "{'type': 'Image',\n",
              " 'element_id': '8e0c688f-e39f-4f25-9764-ee465d10ceb9',\n",
              " 'text': '',\n",
              " 'metadata': {'coordinates': {'points': ((np.float64(486.0),\n",
              "     np.float64(261.1805555555558)),\n",
              "    (np.float64(486.0), np.float64(614.7805555555556)),\n",
              "    (np.float64(664.0), np.float64(614.7805555555556)),\n",
              "    (np.float64(664.0), np.float64(261.1805555555558))),\n",
              "   'system': 'PixelSpace',\n",
              "   'layout_width': 1700,\n",
              "   'layout_height': 2200},\n",
              "  'last_modified': '2025-04-05T15:28:30',\n",
              "  'filetype': 'PPM',\n",
              "  'languages': ['eng'],\n",
              "  'page_number': 4,\n",
              "  'image_base64': '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',\n",
              "  'image_mime_type': 'image/jpeg'}}"
            ]
          },
          "metadata": {},
          "execution_count": 16
        }
      ],
      "source": [
        "# This is what an extracted image looks like.\n",
        "# It contains the base64 representation only because we set the param extract_image_block_to_payload=True\n",
        "\n",
        "elements = chunks[3].metadata.orig_elements\n",
        "chunk_images = [el for el in elements if 'Image' in str(type(el))]\n",
        "chunk_images[0].to_dict()"
      ]
    },
    {
      "cell_type": "markdown",
      "id": "26caebda",
      "metadata": {
        "id": "26caebda"
      },
      "source": [
        "### Separate extracted elements into tables, text, and images"
      ]
    },
    {
      "cell_type": "code",
      "execution_count": 17,
      "id": "8326a750",
      "metadata": {
        "id": "8326a750"
      },
      "outputs": [],
      "source": [
        "# separate texts\n",
        "texts = []\n",
        "\n",
        "for chunk in chunks:\n",
        "      if \"CompositeElement\" in str(type((chunk))):\n",
        "          texts.append(chunk)"
      ]
    },
    {
      "cell_type": "code",
      "source": [
        "texts"
      ],
      "metadata": {
        "colab": {
          "base_uri": "https://localhost:8080/"
        },
        "id": "wksB38JQ0fV7",
        "outputId": "3a64b5ca-1981-4d27-d7b6-88757b840012"
      },
      "id": "wksB38JQ0fV7",
      "execution_count": 18,
      "outputs": [
        {
          "output_type": "execute_result",
          "data": {
            "text/plain": [
              "[<unstructured.documents.elements.CompositeElement at 0x7fa69fe574d0>,\n",
              " <unstructured.documents.elements.CompositeElement at 0x7fa69fd5fb10>,\n",
              " <unstructured.documents.elements.CompositeElement at 0x7fa69fd5e850>,\n",
              " <unstructured.documents.elements.CompositeElement at 0x7fa69fe730d0>,\n",
              " <unstructured.documents.elements.CompositeElement at 0x7fa838541010>,\n",
              " <unstructured.documents.elements.CompositeElement at 0x7fa71a5315d0>,\n",
              " <unstructured.documents.elements.CompositeElement at 0x7fa71a523310>,\n",
              " <unstructured.documents.elements.CompositeElement at 0x7fa71a478fd0>,\n",
              " <unstructured.documents.elements.CompositeElement at 0x7fa71a47aad0>,\n",
              " <unstructured.documents.elements.CompositeElement at 0x7fa71a47a9d0>,\n",
              " <unstructured.documents.elements.CompositeElement at 0x7fa71a47ad10>,\n",
              " <unstructured.documents.elements.CompositeElement at 0x7fa71a47ad50>]"
            ]
          },
          "metadata": {},
          "execution_count": 18
        }
      ]
    },
    {
      "cell_type": "code",
      "source": [
        "# Get the Tables from the CompositeElement objects\n",
        "def get_tables(chunks):\n",
        "    tables = []\n",
        "    for chunk in chunks:\n",
        "        if \"CompositeElement\" in str(type(chunk)):\n",
        "            chunk_els = chunk.metadata.orig_elements\n",
        "            for el in chunk_els:\n",
        "                if \"Table\" in str(type(el)):\n",
        "                    print(\"table found\")\n",
        "                    tables.append(el)\n",
        "                    print(el.metadata.text_as_html)\n",
        "\n",
        "    return tables\n",
        "\n",
        "tables = get_tables(chunks)"
      ],
      "metadata": {
        "colab": {
          "base_uri": "https://localhost:8080/"
        },
        "id": "IUrofyyP0uLs",
        "outputId": "3d944452-c1ab-4c3a-dc60-a19ba95ef69a"
      },
      "id": "IUrofyyP0uLs",
      "execution_count": 19,
      "outputs": [
        {
          "output_type": "stream",
          "name": "stdout",
          "text": [
            "table found\n",
            "<table><thead><tr><th>Layer Type</th><th>Complexity per Layer</th><th>Sequential Operations</th><th>Maximum Path Length</th></tr></thead><tbody><tr><td>Self-Attention</td><td>O(n? - d)</td><td>O(1)</td><td>O(1)</td></tr><tr><td>Recurrent</td><td>O(n - d?)</td><td>O(n)</td><td>O(n)</td></tr><tr><td>Convolutional</td><td>O(k-n-d?)</td><td>O(1)</td><td>O(logx(n))</td></tr><tr><td>Self-Attention (restricted)</td><td>O(r-n-d)</td><td>ol)</td><td>O(n/r)</td></tr></tbody></table>\n",
            "table found\n",
            "<table><thead><tr><th>Model</th><th>EN-DE</th><th>BLEU EN-FR</th><th>Training EN-DE</th><th>Cost (FLOPs) EN-FR</th></tr></thead><tbody><tr><td colspan=\"5\">ByteNet [18] 23.75</td></tr><tr><td>Deep-Att + PosUnk</td><td></td><td>39.2</td><td></td><td>1.0 - 107°</td></tr><tr><td>GNMT + RL 8]</td><td>24.6</td><td>39.92</td><td>2.3-10!9</td><td>1.4. 1070</td></tr><tr><td>ConvS28S [9]</td><td>25.16</td><td>40.46</td><td>9.6-10'%</td><td>1.5-1070</td></tr><tr><td>MoE</td><td>26.03</td><td>40.56</td><td>2.0-10'9</td><td>1.2. 107°</td></tr><tr><td>Deep-Att + PosUnk Ensemble</td><td></td><td>40.4</td><td></td><td>8.0 - 107°</td></tr><tr><td>GNMT + RL Ensemble (33</td><td>26.30</td><td>41.16</td><td>1.8-1079</td><td>1.1- 1074</td></tr><tr><td>ConvS2S Ensemble [9]</td><td>26.36</td><td>41.29</td><td>7.7-10'9</td><td>1.2.10?!</td></tr><tr><td>Transformer (base model)</td><td>27.3</td><td>38.1</td><td>3.3 -</td><td>1018</td></tr><tr><td>Transformer (big)</td><td>28.4</td><td>41.8</td><td>2.3.</td><td>1019</td></tr></tbody></table>\n",
            "table found\n",
            "<table><thead><tr><th></th><th>No</th><th>dyoast</th><th>de</th><th></th><th>Rd</th><th>dy</th><th>Parop</th><th>ets</th><th>fame</th><th>| deny</th><th>dev).</th><th>dO</th></tr></thead><tbody><tr><td>base</td><td>| 6</td><td>512</td><td>2048</td><td>8</td><td>64</td><td>64</td><td>0.1</td><td>O01</td><td>100K |</td><td>4.92</td><td>25.8</td><td>65</td></tr><tr><td rowspan=\"4\">(A)</td><td></td><td></td><td></td><td>1</td><td>512</td><td>512</td><td></td><td></td><td></td><td>5.29</td><td>24.9</td><td></td></tr><tr><td></td><td></td><td></td><td>4</td><td>128</td><td>128</td><td></td><td></td><td></td><td>5.00</td><td>25.5</td><td></td></tr><tr><td></td><td></td><td></td><td>16</td><td>32</td><td>32</td><td></td><td></td><td></td><td>491</td><td>25.8</td><td></td></tr><tr><td></td><td></td><td></td><td>32.</td><td>16 =</td><td>16</td><td></td><td></td><td></td><td>5.01</td><td>25.4</td><td></td></tr><tr><td rowspan=\"2\">(B)</td><td></td><td></td><td></td><td></td><td>16</td><td></td><td></td><td></td><td></td><td>5.16</td><td>25.1</td><td>58</td></tr><tr><td></td><td></td><td></td><td></td><td>32</td><td></td><td></td><td></td><td></td><td>5.01</td><td>25.4</td><td>60</td></tr><tr><td rowspan=\"7\">(C)</td><td>2</td><td></td><td></td><td></td><td></td><td></td><td></td><td></td><td></td><td>6.11</td><td>23.7</td><td>36</td></tr><tr><td>4</td><td></td><td></td><td></td><td></td><td></td><td></td><td></td><td></td><td>5.19</td><td>25.3</td><td>50</td></tr><tr><td>8</td><td></td><td></td><td></td><td></td><td></td><td></td><td></td><td></td><td>4.88</td><td>25.5</td><td>80</td></tr><tr><td></td><td>256</td><td></td><td></td><td>32</td><td>32</td><td></td><td></td><td></td><td>5.75</td><td>24.5</td><td>28</td></tr><tr><td></td><td>1024</td><td></td><td></td><td>128</td><td>128</td><td></td><td></td><td></td><td>4.66</td><td>26.0</td><td>168</td></tr><tr><td></td><td></td><td>1024</td><td></td><td></td><td></td><td></td><td></td><td></td><td>5.12</td><td>25.4</td><td>53</td></tr><tr><td></td><td></td><td>4096</td><td></td><td></td><td></td><td></td><td></td><td></td><td>4.75</td><td>26.2</td><td>90</td></tr><tr><td rowspan=\"4\">(0)</td><td></td><td></td><td></td><td></td><td></td><td></td><td>0.0</td><td></td><td></td><td>5.77</td><td>24.6</td><td></td></tr><tr><td></td><td></td><td></td><td></td><td></td><td></td><td>0.2</td><td></td><td></td><td>4.95</td><td>25.5</td><td></td></tr><tr><td></td><td></td><td></td><td></td><td></td><td></td><td></td><td>0.0</td><td></td><td>467</td><td>25.3</td><td></td></tr><tr><td></td><td></td><td></td><td></td><td></td><td></td><td></td><td>0.2</td><td></td><td>5.47</td><td>25.7</td><td></td></tr><tr><td>(E)</td><td></td><td></td><td>positional</td><td>embedding</td><td></td><td>instead of</td><td>sinusoids</td><td></td><td></td><td>4.92</td><td>25.7</td><td></td></tr><tr><td>big |</td><td>6</td><td>1024</td><td>4096</td><td>16</td><td></td><td></td><td>0.3</td><td></td><td>300K</td><td>| 4.33</td><td>26.4</td><td>213</td></tr></tbody></table>\n",
            "table found\n",
            "<table><thead><tr><th>Parser</th><th>Training</th><th>WSJ 23 F1</th></tr></thead><tbody><tr><td>Vinyals &amp; Kaiser el al. (2014)</td><td>WSJ only, discriminative</td><td>88.3</td></tr><tr><td>Petrov et al. (2006)</td><td>WSJ only, discriminative</td><td>90.4</td></tr><tr><td>Zhu et al. (2013) (40)</td><td>WSJ only, discriminative</td><td>90.4</td></tr><tr><td>Dyer et al. (2016)</td><td>WSJ only, discriminative</td><td>91.7</td></tr><tr><td>Transformer (4 layers)</td><td>WSJ only, discriminative</td><td>91.3</td></tr><tr><td>Zhu et al. (2013) [40]</td><td>semi-supervised</td><td>913</td></tr><tr><td>Huang &amp; Harper (2009)</td><td>semi-supervised</td><td>91.3</td></tr><tr><td>McClosky et al. (2006)</td><td>semi-supervised</td><td>92.1</td></tr><tr><td>Vinyals &amp; Kaiser el al. (2014)</td><td>semi-supervised</td><td>92.1</td></tr><tr><td>Transformer (4 layers)</td><td>semi-supervised</td><td>92.7</td></tr><tr><td>Luong et al. (2015) [23]</td><td>multi-task</td><td>93.0</td></tr><tr><td>Dyer et al. (2016)</td><td>generative</td><td>93.3</td></tr></tbody></table>\n"
          ]
        }
      ]
    },
    {
      "cell_type": "code",
      "source": [
        "len(tables)"
      ],
      "metadata": {
        "colab": {
          "base_uri": "https://localhost:8080/"
        },
        "id": "o2z8hy-r1cpK",
        "outputId": "724c8af9-99d1-45ca-9397-b7ac1fae5c5e"
      },
      "id": "o2z8hy-r1cpK",
      "execution_count": 20,
      "outputs": [
        {
          "output_type": "execute_result",
          "data": {
            "text/plain": [
              "4"
            ]
          },
          "metadata": {},
          "execution_count": 20
        }
      ]
    },
    {
      "cell_type": "code",
      "execution_count": 21,
      "id": "df548e46",
      "metadata": {
        "id": "df548e46"
      },
      "outputs": [],
      "source": [
        "# Get the images from the CompositeElement objects\n",
        "def get_images_base64(chunks):\n",
        "    images_b64 = []\n",
        "    for chunk in chunks:\n",
        "        if \"CompositeElement\" in str(type(chunk)):\n",
        "            chunk_els = chunk.metadata.orig_elements\n",
        "            for el in chunk_els:\n",
        "                if \"Image\" in str(type(el)):\n",
        "                    images_b64.append(el.metadata.image_base64)\n",
        "    return images_b64\n",
        "\n",
        "images = get_images_base64(chunks)"
      ]
    },
    {
      "cell_type": "code",
      "source": [
        "len(images)"
      ],
      "metadata": {
        "colab": {
          "base_uri": "https://localhost:8080/"
        },
        "id": "_h6qm5NkItNG",
        "outputId": "572fa1e0-52b6-4cf3-d534-4db385195082"
      },
      "id": "_h6qm5NkItNG",
      "execution_count": 22,
      "outputs": [
        {
          "output_type": "execute_result",
          "data": {
            "text/plain": [
              "7"
            ]
          },
          "metadata": {},
          "execution_count": 22
        }
      ]
    },
    {
      "cell_type": "markdown",
      "id": "9582f462",
      "metadata": {
        "id": "9582f462"
      },
      "source": [
        "#### Check what the images look like"
      ]
    },
    {
      "cell_type": "code",
      "execution_count": 23,
      "id": "83158c36",
      "metadata": {
        "id": "83158c36",
        "outputId": "4ce3cc61-bee7-4e9e-8832-f7dbaf69a2dc",
        "colab": {
          "base_uri": "https://localhost:8080/",
          "height": 371
        }
      },
      "outputs": [
        {
          "output_type": "display_data",
          "data": {
            "image/jpeg": "[encoded data removed]",
            "text/plain": [
              "<IPython.core.display.Image object>"
            ]
          },
          "metadata": {}
        }
      ],
      "source": [
        "import base64\n",
        "from IPython.display import Image, display\n",
        "\n",
        "def display_base64_image(base64_code):\n",
        "    # Decode the base64 string to binary\n",
        "    image_data = base64.b64decode(base64_code)\n",
        "    # Display the image\n",
        "    display(Image(data=image_data))\n",
        "\n",
        "display_base64_image(images[1])"
      ]
    },
    {
      "cell_type": "markdown",
      "id": "0aa7f52f-bf5c-4ba4-af72-b2ccba59a4cf",
      "metadata": {
        "id": "0aa7f52f-bf5c-4ba4-af72-b2ccba59a4cf"
      },
      "source": [
        "## Summarize the data\n",
        "\n",
        "Create a summary of each element extracted from the PDF. This summary will be vectorized and used in the retrieval process."
      ]
    },
    {
      "cell_type": "markdown",
      "id": "8b55862c",
      "metadata": {
        "id": "8b55862c"
      },
      "source": [
        "### Text and Table summaries\n",
        "\n",
        "We don't need a multimodal model to generate the summaries of the tables and the text. I will use open source models available on Groq."
      ]
    },
    {
      "cell_type": "code",
      "execution_count": 24,
      "id": "08b3d2bc",
      "metadata": {
        "id": "08b3d2bc"
      },
      "outputs": [],
      "source": [
        "%pip install -Uq langchain-groq"
      ]
    },
    {
      "cell_type": "code",
      "execution_count": 25,
      "id": "523e6ed2-2132-4748-bdb7-db765f20648d",
      "metadata": {
        "id": "523e6ed2-2132-4748-bdb7-db765f20648d"
      },
      "outputs": [],
      "source": [
        "from langchain_groq import ChatGroq\n",
        "from langchain_core.prompts import ChatPromptTemplate\n",
        "from langchain_core.output_parsers import StrOutputParser"
      ]
    },
    {
      "cell_type": "code",
      "source": [
        "from langchain_openai import ChatOpenAI"
      ],
      "metadata": {
        "id": "jQyA0Vf634u4"
      },
      "id": "jQyA0Vf634u4",
      "execution_count": 26,
      "outputs": []
    },
    {
      "cell_type": "code",
      "execution_count": 27,
      "id": "22c22e3f-42fb-4a4a-a87a-89f10ba8ab99",
      "metadata": {
        "id": "22c22e3f-42fb-4a4a-a87a-89f10ba8ab99"
      },
      "outputs": [],
      "source": [
        "# Prompt\n",
        "prompt_text = \"\"\"\n",
        "You are an assistant tasked with summarizing tables and text.\n",
        "Give a concise summary of the table or text.\n",
        "\n",
        "Respond only with the summary, no additionnal comment.\n",
        "Do not start your message by saying \"Here is a summary\" or anything like that.\n",
        "Just give the summary as it is.\n",
        "\n",
        "Table or text chunk: {element}\n",
        "\n",
        "\"\"\"\n",
        "prompt = ChatPromptTemplate.from_template(prompt_text)\n",
        "\n",
        "# Summary chain\n",
        "#model = ChatGroq(temperature=0.5, model=\"llama-3.3-70b-versatile\")\n",
        "model = ChatOpenAI(model=\"gpt-4o-mini\")\n",
        "summarize_chain = {\"element\": lambda x: x} | prompt | model | StrOutputParser()"
      ]
    },
    {
      "cell_type": "code",
      "source": [
        "text_summaries = summarize_chain.batch(texts, {\"max_concurrency\": 3})"
      ],
      "metadata": {
        "id": "p_YhrRy33HPL"
      },
      "id": "p_YhrRy33HPL",
      "execution_count": 29,
      "outputs": []
    },
    {
      "cell_type": "code",
      "source": [
        "text_summaries"
      ],
      "metadata": {
        "colab": {
          "base_uri": "https://localhost:8080/"
        },
        "id": "YZ6aJT5v4B73",
        "outputId": "7acd53af-611b-486f-d830-6c50e8af23c9"
      },
      "id": "YZ6aJT5v4B73",
      "execution_count": 30,
      "outputs": [
        {
          "output_type": "execute_result",
          "data": {
            "text/plain": [
              "['The document presents the \"Transformer,\" a novel network architecture proposed by a team from Google and the University of Toronto, which relies solely on attention mechanisms instead of recurrent or convolutional networks. The Transformer outperforms existing models in machine translation tasks, achieving a BLEU score of 28.4 for English-to-German and 41.8 for English-to-French, while being more parallelizable and requiring less training time. The authors assert its versatility by successfully applying it to English constituency parsing as well.',\n",
              " 'Recurrent neural networks, particularly long short-term memory and gated recurrent networks, are established in sequence modeling like language and translation tasks, but they face challenges with sequential computation that limits parallelization. Attention mechanisms enhance models by allowing dependency modeling across distances, often used alongside recurrent networks. The Transformer is introduced as a novel architecture that utilizes only attention mechanisms, enabling greater parallelization and achieving high translation quality efficiently. It contrasts with previous models like the Extended Neural GPU and ByteNet by reducing the operational complexity of relating input positions to a constant, though it employs Multi-Head Attention to mitigate effective resolution loss. Self-attention, which relates positions within a single sequence, has shown success in various tasks, while the Transformer uniquely relies entirely on self-attention for input-output representation without traditional RNNs or convolutions.',\n",
              " 'The competitive neural sequence transduction models typically utilize an encoder-decoder architecture. The encoder converts an input sequence into continuous representations, while the decoder generates the output sequence in an auto-regressive manner. The Transformer model employs stacked self-attention and fully connected layers, featuring identical encoder and decoder layers. Each encoder layer consists of a multi-head self-attention mechanism and a feed-forward network with residual connections and layer normalization. Similarly, the decoder has additional multi-head attention for encoder outputs and incorporates masking to ensure predictions depend only on previous outputs. Both structures produce outputs with a dimension of 512.',\n",
              " 'The attention function maps a query with key-value pairs to an output via a weighted sum of values, determined by the compatibility of the query with the keys. \"Scaled Dot-Product Attention\" normalizes the dot products of queries and keys, applying a softmax function for weight computation. Multiple queries can be processed simultaneously using matrices. The main types of attention are additive and dot-product, with the latter being more efficient for larger dimensions due to scaling, although additive attention can outperform it under certain conditions.',\n",
              " \"Multi-head attention in models involves projecting queries, keys, and values multiple times (h times) with learned linear projections, allowing parallel attention functions. This approach enables the model to focus on different representation subspaces simultaneously, mitigating the averaging issue present in single-head attention. In their implementation, the model utilizes 8 parallel attention heads, each with a dimension of 64, maintaining similar computational costs to single-head attention. The Transformer employs multi-head attention in three contexts: encoder-decoder layers, where queries come from the decoder and keys/values from the encoder; self-attention layers in the encoder, where all components are sourced from the encoder's previous output; and self-attention in the decoder, which masks connections to preserve the auto-regressive nature by preventing leftward information flow.\",\n",
              " \"The section describes key components of a model's architecture including position-wise feed-forward networks (FFNs), embeddings, softmax layers, and positional encoding. FFNs consist of linear transformations with ReLU activation and are applied individually to positions in the input, using distinct parameters per layer. The model utilizes learned embeddings to convert input and output tokens to vectors and shares weight matrices between embedding layers and pre-softmax transformations. It incorporates positional encodings using sinusoidal functions to capture token order, summing these encodings with input embeddings, and experiments showed that sinusoidal and learned embeddings yield similar performance. The section also includes a table outlining the complexity, maximum path lengths, and sequential operations of various layer types, highlighting differences between self-attention, recurrent, convolutional, and restricted self-attention layers.\",\n",
              " 'Self-attention layers are compared to recurrent and convolutional layers in terms of computational complexity, parallelization, and path length for learning long-range dependencies in sequence transduction tasks. Self-attention offers a constant number of sequential operations and is faster for smaller sequence lengths than recurrent layers. While convolutional layers require multiple layers to connect all input-output pairs, self-attention connects them directly, though it may be limited in very long sequences by focusing on a neighborhood size. Additionally, self-attention can provide interpretability by revealing distinct tasks performed by attention heads, often reflecting syntactic and semantic structures.',\n",
              " 'The training regime involved using the WMT 2014 English-German dataset (4.5 million sentence pairs) and the larger WMT 2014 English-French dataset (36 million sentences), with specific tokenization methods. Training utilized 8 NVIDIA P100 GPUs, with base models trained for 100,000 steps over 12 hours and big models for 300,000 steps over 3.5 days. The Adam optimizer was employed with a learning rate schedule that included warmup steps. Regularization techniques included residual dropout and label smoothing, enhancing accuracy and BLEU scores. The Transformer model outperformed previous state-of-the-art in BLEU scores while being more cost-effective in terms of training.',\n",
              " \"The big transformer model significantly outperforms previous models in the WMT 2014 English-to-German and English-to-French translation tasks, achieving BLEU scores of 28.4 and 41.0, respectively, while also reducing training costs. The model's configuration utilizes specific hyperparameters and training methods, and the base model exceeds published results too. Various model configurations were tested, showing minor performance changes across different Transformer architecture variations.\",\n",
              " 'The results from the experiments highlight the varying performance of attention mechanisms in a Transformer model. Single-head attention performs worse, while a reduction in attention key size negatively impacts model quality. Overall, larger models and the use of dropout help in improving performance. The Transformer was also evaluated on English constituency parsing, achieving competitive results, particularly in a semi-supervised setting, outperforming traditional RNN models and achieving high F1 scores in comparison to other approaches. The Transformer, even without task-specific tuning, demonstrates strong generalization capabilities.',\n",
              " 'The work presents the Transformer model, an innovative sequence transduction architecture that utilizes attention mechanisms instead of recurrent layers, leading to significantly faster training for translation tasks. It achieves new state-of-the-art results for English-to-German and English-to-French translations, outperforming previous models, including ensembles. Future research includes applying this model to various input-output modalities beyond text and improving efficiency in handling larger inputs like images and audio. The code used for the study is publicly available. Acknowledgements are given to collaborators for their contributions.',\n",
              " 'The text references several significant contributions in the field of computer vision and natural language processing, citing works from 2015 and 2016, including advancements in machine translation and neural architectures. It also discusses attention mechanisms in neural networks, particularly how certain attention heads in the model focus on long-distance dependencies and sentence structure, providing examples of such behavior in different layers of the model.']"
            ]
          },
          "metadata": {},
          "execution_count": 30
        }
      ]
    },
    {
      "cell_type": "code",
      "execution_count": 31,
      "id": "f176b374-aef0-48f4-a104-fb26b1dd6922",
      "metadata": {
        "id": "f176b374-aef0-48f4-a104-fb26b1dd6922"
      },
      "outputs": [],
      "source": [
        "# Summarize tables\n",
        "tables_html = [table.metadata.text_as_html for table in tables]\n",
        "table_summaries = summarize_chain.batch(tables_html, {\"max_concurrency\": 3})"
      ]
    },
    {
      "cell_type": "code",
      "execution_count": 32,
      "id": "1d172ad2",
      "metadata": {
        "id": "1d172ad2",
        "outputId": "28e4f3d2-b0b6-40b2-89bc-88428251f615",
        "colab": {
          "base_uri": "https://localhost:8080/"
        }
      },
      "outputs": [
        {
          "output_type": "execute_result",
          "data": {
            "text/plain": [
              "['The table compares different layer types in terms of complexity, sequential operations, and maximum path length. Self-Attention has a complexity of O(n? - d), with constant sequential operations and a maximum path length of O(1). Recurrent layers exhibit O(n - d?) complexity, O(n) sequential operations, and a maximum path length of O(n). Convolutional layers have a complexity of O(k-n-d?), constant sequential operations, and a logarithmic maximum path length of O(logx(n)). Restricted Self-Attention has a complexity of O(r-n-d), represented as ol for sequential operations, and a maximum path length of O(n/r).',\n",
              " 'The table lists various translation models along with their performance metrics. Key points include:\\n\\n- ByteNet: EN-DE score of 23.75.\\n- Deep-Att + PosUnk: BLEU EN-FR score of 39.2 with cost of 1.0 x 10^7 FLOPs.\\n- GNMT + RL: EN-DE score of 24.6, BLEU EN-FR 39.92, training cost ranging from 2.3 x 10^9 to 1.4 x 10^70 FLOPs.\\n- ConvS28S: Exhibits EN-DE of 25.16 and BLEU of 40.46 with a cost of 1.5 x 10^70 FLOPs.\\n- MoE: Shows EN-DE of 26.03 and BLEU 40.56, with training cost of 1.2 x 10^7 FLOPs.\\n- Ensemble models generally perform better, with the GNMT + RL Ensemble reaching an EN-DE of 26.30 and BLEU of 41.16.\\n- Transformer (base model): EN-DE at 27.3, BLEU at 38.1, and cost of 10^18 FLOPs; the bigger variant achieves 28.4 in EN-DE and 41.8 in BLEU with a higher cost of 10^19 FLOPs.',\n",
              " 'The table presents various configurations and their performance metrics across different setups labeled (A), (B), (C), and (0). Each configuration details parameters such as No, dyoast, de, and respective outputs related to metrics like Rd, dy, Parop, ets, fame, deny, and dev. The base case and additional configurations show varying performance where the measurements include loss values and accuracy rates, indicating the impact of dimensionality and setup on performance metrics. Configuration (E) also mentions the use of positional embeddings instead of sinusoids, while a specific big configuration suggests improved parameters yielding higher performance.',\n",
              " 'The table summarizes various parsing models, their training methods, and their F1 scores on the WSJ dataset. Notable results include:\\n\\n- Highest F1 score (93.3) achieved by Dyer et al. (2016) using a generative approach.\\n- Multi-task approach by Luong et al. (2015) shows an F1 score of 93.0.\\n- Semi-supervised methods yield scores ranging from 91.3 to 92.7.\\n- Discriminative methods range from 88.3 to 91.7, with Dyer et al. (2016) scoring the highest among them.']"
            ]
          },
          "metadata": {},
          "execution_count": 32
        }
      ],
      "source": [
        "table_summaries"
      ]
    },
    {
      "cell_type": "markdown",
      "id": "b1feadda-8171-4aed-9a60-320a88dc9ee1",
      "metadata": {
        "id": "b1feadda-8171-4aed-9a60-320a88dc9ee1"
      },
      "source": [
        "### Image summaries\n",
        "\n",
        "We will use gpt-4o-mini to produce the image summaries."
      ]
    },
    {
      "cell_type": "code",
      "execution_count": 33,
      "id": "32c825e1",
      "metadata": {
        "id": "32c825e1"
      },
      "outputs": [],
      "source": [
        "%pip install -Uq langchain_openai"
      ]
    },
    {
      "cell_type": "code",
      "execution_count": 34,
      "id": "9e6b1d97-4245-45ac-95ba-9bc1cfd10182",
      "metadata": {
        "id": "9e6b1d97-4245-45ac-95ba-9bc1cfd10182"
      },
      "outputs": [],
      "source": [
        "from langchain_openai import ChatOpenAI\n",
        "\n",
        "prompt_template = \"\"\"Describe the image in detail. For context,\n",
        "                  the image is part of a research paper explaining the transformers\n",
        "                  architecture. Be specific about graphs, such as bar plots.\"\"\"\n",
        "messages = [\n",
        "    (\n",
        "        \"user\",\n",
        "        [\n",
        "            {\"type\": \"text\", \"text\": prompt_template},\n",
        "            {\n",
        "                \"type\": \"image_url\",\n",
        "                \"image_url\": {\"url\": \"data:image/jpeg;base64,{image}\"},\n",
        "            },\n",
        "        ],\n",
        "    )\n",
        "]\n",
        "\n",
        "prompt = ChatPromptTemplate.from_messages(messages)\n",
        "\n",
        "chain = prompt | ChatOpenAI(model=\"gpt-4o-mini\") | StrOutputParser()\n",
        "\n",
        "\n",
        "image_summaries = chain.batch(images)"
      ]
    },
    {
      "cell_type": "code",
      "execution_count": 35,
      "id": "laF_8o1gzHT0",
      "metadata": {
        "colab": {
          "base_uri": "https://localhost:8080/"
        },
        "id": "laF_8o1gzHT0",
        "outputId": "b5c69d07-66ed-40b8-883d-42e38790fa04"
      },
      "outputs": [
        {
          "output_type": "execute_result",
          "data": {
            "text/plain": [
              "['The image illustrates the architecture of a Transformer model, a foundational structure in deep learning, especially for natural language processing tasks. It features a flowchart design with various components connected by arrows, indicating the data flow through the model.\\n\\n### Key Components:\\n\\n1. **Input/Output Embeddings**:\\n   - At the bottom, there\\'s a section for \"Input Embedding\" and \"Output Embedding,\" indicating how input data is transformed into a format usable by the model. Outputs are described as being \"shifted right,\" illustrating that the output sequence is typically prepared in a way that considers the previous tokens.\\n\\n2. **Positional Encoding**:\\n   - Above the input and output embeddings, there are symbols representing \"Positional Encoding.\" This indicates that positional information is added to the embeddings to give the model a sense of the order of the tokens.\\n\\n3. **Encoder Block (left)**:\\n   - The left side of the diagram is dedicated to the Encoder with a repeated structure labeled as \"N×\" (indicating it is stacked N times). \\n   - Inside the Encoder blocks:\\n     - **Multi-Head Attention**: A key component allowing the model to weigh different parts of the input sequence differently.\\n     - **Add & Norm**: Each attention layer is followed by an \"Add & Norm\" operation, which involves adding the input of that layer to its output and normalizing the result.\\n     - **Feed Forward**: This block leads to a feed-forward neural network operation applied independently to each position.\\n\\n4. **Decoder Block (right)**:\\n   - The right side illustrates the Decoder, which also repeats the structure \"N×.\" \\n   - It features:\\n     - **Masked Multi-Head Attention**: This ensures that the predictions for the current token do not access future tokens.\\n     - Similarly, it has \"Add & Norm\" sections and a feed-forward network.\\n\\n5. **Final Output**:\\n   - At the top of the diagram are the final steps leading to \"Output Probabilities,\" which involve:\\n     - A \"Linear\" transformation followed by a \"Softmax\" operation, converting the final outputs into probability distributions over the possible next tokens.\\n\\n### Overall Structure:\\nThe entire architecture emphasizes the flow of data—starting from input embeddings, passing through multiple attention and feed-forward layers in both the encoder and decoder, and finally producing an output through linear transformation and softmax. The interconnectedness of these components is crucial in enabling the model to learn contextual relationships within the input data.',\n",
              " 'The image illustrates a component of the transformers architecture, specifically related to the attention mechanism. It consists of several labeled boxes arranged vertically, representing different operations involved in the attention calculation.\\n\\n1. **MatMul**: At the top, there is a box labeled \"MatMul,\" indicating a matrix multiplication operation. This typically corresponds to combining queries (Q) and keys (K).\\n\\n2. **SoftMax**: Below that, there\\'s a green box labeled \"SoftMax.\" This operation applies the SoftMax function to the results of the matrix multiplication to obtain attention scores.\\n\\n3. **Mask (opt.)**: Next is a pink box labeled \"Mask (opt.),\" which suggests the optional application of a masking process. This is often used in attention mechanisms to prevent attending to certain positions, such as padding tokens.\\n\\n4. **Scale**: There is a yellow box labeled \"Scale,\" indicating that the attention scores may be scaled (often by the square root of the dimension of the keys) before being passed to the SoftMax.\\n\\n5. **MatMul**: Another \"MatMul\" box appears at the bottom, indicating a second matrix multiplication. This operation typically combines the scaled attention scores with the values (V) to produce the final output of the attention mechanism.\\n\\n6. **Arrows**: Arrows connect these boxes, indicating the flow of data through the different operations. There are also arrows pointing downwards to signify the inputs Q (queries) and K (keys) as well as the output V (values) from the attention mechanism.\\n\\nOverall, the image effectively captures the sequential processing of inputs through the attention mechanism in the transformer architecture, demonstrating how data flows through various functions to compute attention scores and outputs.',\n",
              " 'The image depicts a simplified architecture of the transformer model, focusing on the attention mechanism, particularly the Scaled Dot-Product Attention.\\n\\n1. **Central Block:**\\n   - The most prominent feature is the rectangular block labeled \"Scaled Dot-Product Attention\" in purple. This block is central to the diagram and demonstrates its importance in the architecture.\\n\\n2. **Input Components:**\\n   - Below the attention block, there are three linear blocks labeled \"Linear\" corresponding to the input components: \\n     - **V** (Value)\\n     - **K** (Key)\\n     - **Q** (Query)\\n   - These blocks suggest that the inputs are processed through linear transformations.\\n\\n3. **Concatenation:**\\n   - Above the attention block, there is a yellow block labeled \"Concat.\" This indicates that the outputs from the attention mechanism are concatenated, likely before being fed into subsequent layers.\\n\\n4. **Arrows:**\\n   - There are several arrows connecting these components:\\n     - The arrows from the Linear blocks (V, K, Q) point toward the Scaled Dot-Product Attention block, signifying that these inputs are fed into the attention mechanism.\\n     - An upward arrow from the attention block to the Concat block indicates that the output of the attention layer is directed upward for further processing.\\n     - There are also arrows going back and forth between the blocks, which may represent data flow or dependencies between them.\\n\\n5. **Layers Representation:**\\n   - There is a faint multiple layer representation of the \"Linear\" components, indicating that there may be several layers in the actual transformer model architecture, emphasizing depth.\\n\\n6. **Output Variable:**\\n   - The letter \"h\" is placed next to the Scaled Dot-Product Attention block, which might represent the output of this attention component.\\n\\nThis diagram illustrates the flow and processing of data through the attention mechanism in the transformer architecture, highlighting the roles of queries, keys, and values while also emphasizing the structured approach taken with linear transformations and concatenation.',\n",
              " 'The image depicts a visual representation likely associated with the transformer architecture in natural language processing, showing various tokens and their connections. \\n\\n1. **Token Representation**: The image contains a sequence of words or tokens organized both horizontally and vertically. The words \"It,\" \"is,\" \"in,\" \"this,\" \"spirit,\" \"that,\" \"a,\" \"majority,\" \"of,\" \"American,\" \"governments,\" \"have,\" \"passed,\" \"new,\" \"laws,\" \"since,\" and \"2009\" appear prominently.\\n\\n2. **Highlighted Connections**: The central token \"making\" is emphasized, denoted by a gray background. Various tokens branch out from this central point, indicating their contextual relationships. These connections are drawn with lines that vary in thickness and color, suggesting different levels of relevance or weight between the related words. \\n\\n3. **Outcomes and Special Tokens**: On the far right, special tokens such as \"<EOS>\" (End of Sequence) and \"<pad>\" (padding) appear, which are standard in transformer models to signify the end of a sentence or fill space for consistent input lengths.\\n\\n4. **Color Codes**: Certain tokens, like \"more\" and \"difficult,\" are surrounded by colored boxes, possibly indicating their significance in the context of actions or descriptions being modeled.\\n\\nOverall, the image serves to illustrate the relationship between input elements in a sequence and how the transformer architecture contextualizes these elements during processing.',\n",
              " 'The image appears to illustrate a sequence of tokens and their relationships, likely within the context of a transformer architecture used for natural language processing. \\n\\n### Key Features:\\n\\n1. **Tokens**: The horizontal arrangement displays a series of textual tokens, such as \"The,\" \"Law,\" \"will,\" \"never,\" and several others, spanning across two layers—input and output. Each token seems to be spaced evenly.\\n\\n2. **Connections**: Numerous lines connect the tokens across the two layers, indicating the relationships or attention scores between them. The lines vary in opacity and thickness, suggesting varying levels of significance or attention assigned to each connection. \\n\\n3. **Colors**: The lines are predominantly in shades of purple and brown, perhaps signifying different types of attention or relationships (like direct attention versus contextual relevance). \\n\\n4. **Special Tokens**: There are special tokens included, such as `<EOS>`, marking the end of a sequence, and `<pad>`, which likely represents padding in the input sequence.\\n\\n5. **Focus Points**: Some tokens, like \"Law\" and \"application,\" appear to have bolder or more pronounced connections, indicating they are focal points in the processing of the sequence.\\n\\n### Overall Impression:\\nThe visualization is likely designed to showcase how the transformer model attends to various parts of an input sequence, demonstrating the model\\'s capability to weigh the importance of different words in generating a coherent output. This kind of representation is essential for understanding the attention mechanism inherent to transformers.',\n",
              " 'The image appears to be a visual representation of an attention mechanism in a transformer architecture, likely illustrating how different words in a sequence relate to each other. \\n\\n### Description:\\n\\n1. **Structure**:\\n   - The image consists of two horizontal axes of words arranged in two rows.\\n   - Each word is positioned along the x-axis, and they appear to be structured in a phrase or sentence context.\\n\\n2. **Words**:\\n   - The words on the left row include: “The,” “Law,” “will,” “never,” “be,” “perfect,” “but,” “its,” “application,” “should,” “be,” “just.”\\n   - The words on the right row include: “this,” “is,” “what,” “we,” “are,” “missing,” “in,” “my,” “opinion,” and special tokens like `<EOS>` (end of sequence) and `<pad>` (padding).\\n\\n3. **Connections**:\\n   - Green lines connect words from the left row to those in the right row. These lines vary in thickness:\\n     - **Thicker lines** suggest stronger attention or relevance between the connected words.\\n     - **Fainter lines** indicate weaker connections.\\n   - The lines crisscross significantly, suggesting complex interdependencies between the words throughout the sentence.\\n\\n4. **Color Gradient**:\\n   - The lines ensure a gradient from a darker green to lighter green, emphasizing the strength of the relationships—darker green implying a stronger correlation.\\n\\n5. **Purpose**:\\n   - This visualization likely serves to explain how attention is distributed across different parts of the input sentence, which is a fundamental concept in transformer models, allowing them to focus on specific words while processing information.\\n\\nOverall, the image effectively illustrates the core principles of attention mechanisms in transformer networks.',\n",
              " 'The image depicts a network of connections between words in a sentence, illustrating the attention mechanism commonly used in transformers.\\n\\n### Description:\\n\\n- **Words**: Across the center, individual words from a sentence are displayed in a horizontal row. They include terms like \"The,\" \"Law,\" \"application,\" \"should,\" \"this,\" and others, as well as special tokens such as `<EOS>` (end of sentence) and `<pad>` (padding token).\\n  \\n- **Connection Lines**: There are multiple lines connecting the words, representing the attention weights assigned by the transformer model. \\n  - **Color Gradation**: The lines vary in color, with some being darker red and others lighter. The darker lines indicate stronger attention relationships, while the lighter lines represent weaker connections.\\n  \\n- **Connectivity Pattern**: The lines create a web-like structure, showing complex relationships between words. For instance, \"should\" has a strong connection to \"application\" and \"be,\" indicating that the model emphasizes these as related in the context. \\n\\n### Purpose:\\nThis visualization highlights how a transformer processes input sequences by focusing on different words based on their contextual importance, underscoring the model\\'s ability to weigh relationships differently across the entire sentence.']"
            ]
          },
          "metadata": {},
          "execution_count": 35
        }
      ],
      "source": [
        "image_summaries"
      ]
    },
    {
      "cell_type": "code",
      "source": [
        "import base64\n",
        "from IPython.display import Image, display\n",
        "\n",
        "def display_base64_image(base64_code):\n",
        "    # Decode the base64 string to binary\n",
        "    image_data = base64.b64decode(base64_code)\n",
        "    # Display the image\n",
        "    display(Image(data=image_data))\n",
        "\n",
        "display_base64_image(images[0])"
      ],
      "metadata": {
        "colab": {
          "base_uri": "https://localhost:8080/",
          "height": 913
        },
        "id": "klZMTQlR82O8",
        "outputId": "13d2c856-8322-448b-a861-3dcd8a49634b"
      },
      "id": "klZMTQlR82O8",
      "execution_count": 36,
      "outputs": [
        {
          "output_type": "display_data",
          "data": {
            "image/jpeg": "[encoded data removed]",
            "text/plain": [
              "<IPython.core.display.Image object>"
            ]
          },
          "metadata": {}
        }
      ]
    },
    {
      "cell_type": "code",
      "execution_count": 37,
      "id": "aHNDEd_2txQI",
      "metadata": {
        "colab": {
          "base_uri": "https://localhost:8080/"
        },
        "id": "aHNDEd_2txQI",
        "outputId": "f455d3e4-7030-4c20-f22c-5e00d7647c02"
      },
      "outputs": [
        {
          "output_type": "stream",
          "name": "stdout",
          "text": [
            "The image illustrates the architecture of a Transformer model, a foundational structure in deep learning, especially for natural language processing tasks. It features a flowchart design with various components connected by arrows, indicating the data flow through the model.\n",
            "\n",
            "### Key Components:\n",
            "\n",
            "1. **Input/Output Embeddings**:\n",
            "   - At the bottom, there's a section for \"Input Embedding\" and \"Output Embedding,\" indicating how input data is transformed into a format usable by the model. Outputs are described as being \"shifted right,\" illustrating that the output sequence is typically prepared in a way that considers the previous tokens.\n",
            "\n",
            "2. **Positional Encoding**:\n",
            "   - Above the input and output embeddings, there are symbols representing \"Positional Encoding.\" This indicates that positional information is added to the embeddings to give the model a sense of the order of the tokens.\n",
            "\n",
            "3. **Encoder Block (left)**:\n",
            "   - The left side of the diagram is dedicated to the Encoder with a repeated structure labeled as \"N×\" (indicating it is stacked N times). \n",
            "   - Inside the Encoder blocks:\n",
            "     - **Multi-Head Attention**: A key component allowing the model to weigh different parts of the input sequence differently.\n",
            "     - **Add & Norm**: Each attention layer is followed by an \"Add & Norm\" operation, which involves adding the input of that layer to its output and normalizing the result.\n",
            "     - **Feed Forward**: This block leads to a feed-forward neural network operation applied independently to each position.\n",
            "\n",
            "4. **Decoder Block (right)**:\n",
            "   - The right side illustrates the Decoder, which also repeats the structure \"N×.\" \n",
            "   - It features:\n",
            "     - **Masked Multi-Head Attention**: This ensures that the predictions for the current token do not access future tokens.\n",
            "     - Similarly, it has \"Add & Norm\" sections and a feed-forward network.\n",
            "\n",
            "5. **Final Output**:\n",
            "   - At the top of the diagram are the final steps leading to \"Output Probabilities,\" which involve:\n",
            "     - A \"Linear\" transformation followed by a \"Softmax\" operation, converting the final outputs into probability distributions over the possible next tokens.\n",
            "\n",
            "### Overall Structure:\n",
            "The entire architecture emphasizes the flow of data—starting from input embeddings, passing through multiple attention and feed-forward layers in both the encoder and decoder, and finally producing an output through linear transformation and softmax. The interconnectedness of these components is crucial in enabling the model to learn contextual relationships within the input data.\n"
          ]
        }
      ],
      "source": [
        "print(image_summaries[0])"
      ]
    },
    {
      "cell_type": "markdown",
      "id": "67b030d4-2ac5-41b6-9245-fc3ba5771d87",
      "metadata": {
        "id": "67b030d4-2ac5-41b6-9245-fc3ba5771d87"
      },
      "source": [
        "## Load data and summaries to vectorstore"
      ]
    },
    {
      "cell_type": "markdown",
      "id": "bb4d2379",
      "metadata": {
        "id": "bb4d2379"
      },
      "source": [
        "### Create the vectorstore"
      ]
    },
    {
      "cell_type": "code",
      "execution_count": 38,
      "id": "9d8d7a34-69e0-49a2-b9f7-1a4e7b26d78f",
      "metadata": {
        "id": "9d8d7a34-69e0-49a2-b9f7-1a4e7b26d78f",
        "colab": {
          "base_uri": "https://localhost:8080/"
        },
        "outputId": "9370c120-fd21-473f-a22d-b86f41802684"
      },
      "outputs": [
        {
          "output_type": "stream",
          "name": "stderr",
          "text": [
            "<ipython-input-38-97639e9e5eb4>:9: LangChainDeprecationWarning: The class `Chroma` was deprecated in LangChain 0.2.9 and will be removed in 1.0. An updated version of the class exists in the :class:`~langchain-chroma package and should be used instead. To use it run `pip install -U :class:`~langchain-chroma` and import as `from :class:`~langchain_chroma import Chroma``.\n",
            "  vectorstore = Chroma(collection_name=\"multi_modal_rag\", embedding_function=OpenAIEmbeddings())\n"
          ]
        }
      ],
      "source": [
        "import uuid\n",
        "from langchain.vectorstores import Chroma\n",
        "from langchain.storage import InMemoryStore\n",
        "from langchain_core.documents import Document\n",
        "from langchain_openai import OpenAIEmbeddings\n",
        "from langchain.retrievers.multi_vector import MultiVectorRetriever\n",
        "\n",
        "# The vectorstore to use to index the child chunks\n",
        "vectorstore = Chroma(collection_name=\"multi_modal_rag\", embedding_function=OpenAIEmbeddings())\n",
        "\n",
        "# The storage layer for the parent documents\n",
        "store = InMemoryStore()\n",
        "id_key = \"doc_id\"\n",
        "\n",
        "# The retriever (empty to start)\n",
        "retriever = MultiVectorRetriever(\n",
        "    vectorstore=vectorstore,\n",
        "    docstore=store,\n",
        "    id_key=id_key,\n",
        ")"
      ]
    },
    {
      "cell_type": "markdown",
      "id": "2bf26669",
      "metadata": {
        "id": "2bf26669"
      },
      "source": [
        "### Load the summaries and link the to the original data"
      ]
    },
    {
      "cell_type": "code",
      "execution_count": 39,
      "id": "1792e683",
      "metadata": {
        "id": "1792e683"
      },
      "outputs": [],
      "source": [
        "# Add texts\n",
        "doc_ids = [str(uuid.uuid4()) for _ in texts]\n",
        "summary_texts = [\n",
        "    Document(page_content=summary, metadata={id_key: doc_ids[i]}) for i, summary in enumerate(text_summaries)\n",
        "]\n",
        "retriever.vectorstore.add_documents(summary_texts)\n",
        "retriever.docstore.mset(list(zip(doc_ids, texts)))\n",
        "\n",
        "# Add tables\n",
        "table_ids = [str(uuid.uuid4()) for _ in tables]\n",
        "summary_tables = [\n",
        "    Document(page_content=summary, metadata={id_key: table_ids[i]}) for i, summary in enumerate(table_summaries)\n",
        "]\n",
        "retriever.vectorstore.add_documents(summary_tables)\n",
        "retriever.docstore.mset(list(zip(table_ids, tables)))\n",
        "\n",
        "# Add image summaries\n",
        "img_ids = [str(uuid.uuid4()) for _ in images]\n",
        "summary_img = [\n",
        "    Document(page_content=summary, metadata={id_key: img_ids[i]}) for i, summary in enumerate(image_summaries)\n",
        "]\n",
        "retriever.vectorstore.add_documents(summary_img)\n",
        "retriever.docstore.mset(list(zip(img_ids, images)))"
      ]
    },
    {
      "cell_type": "markdown",
      "id": "69060724-e390-4dda-8250-5f86025c874a",
      "metadata": {
        "id": "69060724-e390-4dda-8250-5f86025c874a"
      },
      "source": [
        "## RAG pipeline"
      ]
    },
    {
      "cell_type": "code",
      "execution_count": 40,
      "id": "771a47fa-1267-4db8-a6ae-5fde48bbc069",
      "metadata": {
        "id": "771a47fa-1267-4db8-a6ae-5fde48bbc069"
      },
      "outputs": [],
      "source": [
        "from langchain_core.runnables import RunnablePassthrough, RunnableLambda\n",
        "from langchain_core.messages import SystemMessage, HumanMessage\n",
        "from langchain_openai import ChatOpenAI\n",
        "from base64 import b64decode\n",
        "\n",
        "\n",
        "def parse_docs(docs):\n",
        "    \"\"\"Split base64-encoded images and texts\"\"\"\n",
        "    b64 = []\n",
        "    text = []\n",
        "    for doc in docs:\n",
        "        try:\n",
        "            b64decode(doc)\n",
        "            b64.append(doc)\n",
        "        except Exception as e:\n",
        "            text.append(doc)\n",
        "    return {\"images\": b64, \"texts\": text}\n",
        "\n",
        "\n",
        "def build_prompt(kwargs):\n",
        "\n",
        "    docs_by_type = kwargs[\"context\"]\n",
        "    user_question = kwargs[\"question\"]\n",
        "\n",
        "    context_text = \"\"\n",
        "    if len(docs_by_type[\"texts\"]) > 0:\n",
        "        for text_element in docs_by_type[\"texts\"]:\n",
        "            context_text += text_element.text\n",
        "\n",
        "    # construct prompt with context (including images)\n",
        "    prompt_template = f\"\"\"\n",
        "    Answer the question based only on the following context, which can include text, tables, and the below image.\n",
        "    Context: {context_text}\n",
        "    Question: {user_question}\n",
        "    \"\"\"\n",
        "\n",
        "    prompt_content = [{\"type\": \"text\", \"text\": prompt_template}]\n",
        "\n",
        "    if len(docs_by_type[\"images\"]) > 0:\n",
        "        for image in docs_by_type[\"images\"]:\n",
        "            prompt_content.append(\n",
        "                {\n",
        "                    \"type\": \"image_url\",\n",
        "                    \"image_url\": {\"url\": f\"data:image/jpeg;base64,{image}\"},\n",
        "                }\n",
        "            )\n",
        "\n",
        "    return ChatPromptTemplate.from_messages(\n",
        "        [\n",
        "            HumanMessage(content=prompt_content),\n",
        "        ]\n",
        "    )\n",
        "\n",
        "\n",
        "chain = (\n",
        "    {\n",
        "        \"context\": retriever | RunnableLambda(parse_docs),\n",
        "        \"question\": RunnablePassthrough(),\n",
        "    }\n",
        "    | RunnableLambda(build_prompt)\n",
        "    | ChatOpenAI(model=\"gpt-4o-mini\")\n",
        "    | StrOutputParser()\n",
        ")\n",
        "\n",
        "chain_with_sources = {\n",
        "    \"context\": retriever | RunnableLambda(parse_docs),\n",
        "    \"question\": RunnablePassthrough(),\n",
        "} | RunnablePassthrough().assign(\n",
        "    response=(\n",
        "        RunnableLambda(build_prompt)\n",
        "        | ChatOpenAI(model=\"gpt-4o-mini\")\n",
        "        | StrOutputParser()\n",
        "    )\n",
        ")"
      ]
    },
    {
      "cell_type": "code",
      "execution_count": 41,
      "id": "ea8414a8-65ee-4e11-8154-029b454f46af",
      "metadata": {
        "colab": {
          "base_uri": "https://localhost:8080/"
        },
        "id": "ea8414a8-65ee-4e11-8154-029b454f46af",
        "outputId": "8924b284-a010-4024-f11d-a3e4aeb9bf60"
      },
      "outputs": [
        {
          "output_type": "stream",
          "name": "stdout",
          "text": [
            "The BLEU score for the model ByteNet is 23.75.\n"
          ]
        }
      ],
      "source": [
        "response = chain.invoke(\n",
        "    \"What BLEU score for model ByteNet\"\n",
        ")\n",
        "\n",
        "print(response)"
      ]
    },
    {
      "cell_type": "code",
      "execution_count": 42,
      "id": "e4adfeba",
      "metadata": {
        "id": "e4adfeba",
        "outputId": "a9606571-406c-4ae5-df88-b1929b396041",
        "colab": {
          "base_uri": "https://localhost:8080/",
          "height": 1000
        }
      },
      "outputs": [
        {
          "output_type": "stream",
          "name": "stdout",
          "text": [
            "Response: The attention mechanism is a pivotal component in modern neural networks, particularly in natural language processing tasks. It allows the model to focus on different parts of the input sequence when generating an output. \n",
            "\n",
            "**Explanation of Attention Mechanism:**\n",
            "\n",
            "1. **Concept**: At its core, attention compares various parts of an input sequence to capture relationships and dependencies based on their relevance to a specific output state. This allows the model to weigh the importance of each word (or symbol) when processing an input.\n",
            "\n",
            "2. **Self-Attention**: This mechanism computes the relationships between different positions of a single input sequence. It generates a contextual representation for each word, considering all other words in the sequence. \n",
            "\n",
            "### Images Explanation:\n",
            "\n",
            "1. **First Image**: This illustrates the attention scores between different words in a sequence, represented by the green lines. The thickness of the lines indicates the strength of attention, showing which words in the input contribute more significantly to the representation of other words.\n",
            "\n",
            "2. **Second Image**: This diagram outlines the key steps in the attention computation process, showing how the model takes the Query (Q), Key (K), and Value (V) inputs to compute attention scores, which are then processed through layers like SoftMax and Matrix Multiplication for the final attention output.\n",
            "\n",
            "3. **Third Image**: Here, the diagram emphasizes the Scaled Dot-Product Attention mechanism, detailing how multiple linear transformations are applied to the inputs to compute the attention scores, concatenate the results, and produce the final output.\n",
            "\n",
            "Overall, attention mechanisms provide flexibility by allowing the model to dynamically focus on relevant parts of the input, significantly improving performance on various tasks such as translation and summarization.\n",
            "1 Introduction\n",
            "\n",
            "Recurrent neural networks, long short-term memory [13] and gated recurrent [7] neural networks in particular, have been firmly established as state of the art approaches in sequence modeling and transduction problems such as language modeling and machine translation [35, 2, 5]. Numerous efforts have since continued to push the boundaries of recurrent language models and encoder-decoder architectures [38, 24, 15].\n",
            "\n",
            "Recurrent models typically factor computation along the symbol positions of the input and output sequences. Aligning the positions to steps in computation time, they generate a sequence of hidden states ht, as a function of the previous hidden state ht−1 and the input for position t. This inherently sequential nature precludes parallelization within training examples, which becomes critical at longer sequence lengths, as memory constraints limit batching across examples. Recent work has achieved significant improvements in computational efficiency through factorization tricks [21] and conditional computation [32], while also improving model performance in case of the latter. The fundamental constraint of sequential computation, however, remains.\n",
            "\n",
            "Attention mechanisms have become an integral part of compelling sequence modeling and transduc- tion models in various tasks, allowing modeling of dependencies without regard to their distance in the input or output sequences [2, 19]. In all but a few cases [27], however, such attention mechanisms are used in conjunction with a recurrent network.\n",
            "\n",
            "In this work we propose the Transformer, a model architecture eschewing recurrence and instead relying entirely on an attention mechanism to draw global dependencies between input and output. The Transformer allows for significantly more parallelization and can reach a new state of the art in translation quality after being trained for as little as twelve hours on eight P100 GPUs.\n",
            "\n",
            "2 Background\n",
            "\n",
            "The goal of reducing sequential computation also forms the foundation of the Extended Neural GPU [16], ByteNet [18] and ConvS2S [9], all of which use convolutional neural networks as basic building block, computing hidden representations in parallel for all input and output positions. In these models, the number of operations required to relate signals from two arbitrary input or output positions grows in the distance between positions, linearly for ConvS2S and logarithmically for ByteNet. This makes it more difficult to learn dependencies between distant positions [12]. In the Transformer this is reduced to a constant number of operations, albeit at the cost of reduced effective resolution due to averaging attention-weighted positions, an effect we counteract with Multi-Head Attention as described in section 3.2.\n",
            "\n",
            "Self-attention, sometimes called intra-attention is an attention mechanism relating different positions of a single sequence in order to compute a representation of the sequence. Self-attention has been used successfully in a variety of tasks including reading comprehension, abstractive summarization, textual entailment and learning task-independent sentence representations [4, 27, 28, 22].\n",
            "\n",
            "End-to-end memory networks are based on a recurrent attention mechanism instead of sequence- aligned recurrence and have been shown to perform well on simple-language question answering and language modeling tasks [34].\n",
            "\n",
            "To the best of our knowledge, however, the Transformer is the first transduction model relying entirely on self-attention to compute representations of its input and output without using sequence- aligned RNNs or convolution. In the following sections, we will describe the Transformer, motivate self-attention and discuss its advantages over models such as [17, 18] and [9].\n",
            "Page number:  2\n",
            "\n",
            "--------------------------------------------------\n",
            "\n"
          ]
        },
        {
          "output_type": "display_data",
          "data": {
            "image/jpeg": "[encoded data removed]",
            "text/plain": [
              "<IPython.core.display.Image object>"
            ]
          },
          "metadata": {}
        },
        {
          "output_type": "display_data",
          "data": {
            "image/jpeg": "[encoded data removed]",
            "text/plain": [
              "<IPython.core.display.Image object>"
            ]
          },
          "metadata": {}
        },
        {
          "output_type": "display_data",
          "data": {
            "image/jpeg": "[encoded data removed]",
            "text/plain": [
              "<IPython.core.display.Image object>"
            ]
          },
          "metadata": {}
        }
      ],
      "source": [
        "response = chain_with_sources.invoke(\n",
        "    \"What is attention mechanism, explain with image\"\n",
        ")\n",
        "\n",
        "print(\"Response:\", response['response'])\n",
        "\n",
        "#print(\"\\n\\nContext:\")\n",
        "for text in response['context']['texts']:\n",
        "    print(text.text)\n",
        "    print(\"Page number: \", text.metadata.page_number)\n",
        "    print(\"\\n\" + \"-\"*50 + \"\\n\")\n",
        "for image in response['context']['images']:\n",
        "    display_base64_image(image)"
      ]
    },
    {
      "cell_type": "markdown",
      "id": "90cd3714",
      "metadata": {
        "id": "90cd3714"
      },
      "source": [
        "## References\n",
        "\n",
        "- [LangChain Inspiration](https://github.com/langchain-ai/langchain/blob/master/cookbook/Semi_structured_and_multi_modal_RAG.ipynb?ref=blog.langchain.dev)\n",
        "- [Multivector Storage](https://python.langchain.com/docs/how_to/multi_vector/)"
      ]
    }
  ],
  "metadata": {
    "colab": {
      "provenance": [],
      "collapsed_sections": [
        "74b56bde-1ba0-4525-a11d-cab02c5659e4",
        "8b55862c",
        "b1feadda-8171-4aed-9a60-320a88dc9ee1",
        "bb4d2379",
        "2bf26669",
        "4b45fb81-46b1-426e-aa2c-01aed4eac700",
        "69060724-e390-4dda-8250-5f86025c874a"
      ]
    },
    "kernelspec": {
      "display_name": "mm-rag",
      "language": "python",
      "name": "python3"
    },
    "language_info": {
      "codemirror_mode": {
        "name": "ipython",
        "version": 3
      },
      "file_extension": ".py",
      "mimetype": "text/x-python",
      "name": "python",
      "nbconvert_exporter": "python",
      "pygments_lexer": "ipython3",
      "version": "3.12.7"
    },
    "widgets": {
      "application/vnd.jupyter.widget-state+json": {
        "571694e9beea43f1844a3b56d0864127": {
          "model_module": "@jupyter-widgets/controls",
          "model_name": "HBoxModel",
          "model_module_version": "1.5.0",
          "state": {
            "_dom_classes": [],
            "_model_module": "@jupyter-widgets/controls",
            "_model_module_version": "1.5.0",
            "_model_name": "HBoxModel",
            "_view_count": null,
            "_view_module": "@jupyter-widgets/controls",
            "_view_module_version": "1.5.0",
            "_view_name": "HBoxView",
            "box_style": "",
            "children": [
              "IPY_MODEL_9eb84ea5371a46c684d9c7cabfa0a617",
              "IPY_MODEL_7374272ac43e4d48aa91c7dcf2947d20",
              "IPY_MODEL_1b60499733d7448293b4dd5034387e21"
            ],
            "layout": "IPY_MODEL_24f0b9923dd043cf8351f296bf62e26d"
          }
        },
        "9eb84ea5371a46c684d9c7cabfa0a617": {
          "model_module": "@jupyter-widgets/controls",
          "model_name": "HTMLModel",
          "model_module_version": "1.5.0",
          "state": {
            "_dom_classes": [],
            "_model_module": "@jupyter-widgets/controls",
            "_model_module_version": "1.5.0",
            "_model_name": "HTMLModel",
            "_view_count": null,
            "_view_module": "@jupyter-widgets/controls",
            "_view_module_version": "1.5.0",
            "_view_name": "HTMLView",
            "description": "",
            "description_tooltip": null,
            "layout": "IPY_MODEL_9de36ee84da44af98e7e8ebeb840561f",
            "placeholder": "​",
            "style": "IPY_MODEL_110731341a38481694a8370593f5e612",
            "value": "config.json: 100%"
          }
        },
        "7374272ac43e4d48aa91c7dcf2947d20": {
          "model_module": "@jupyter-widgets/controls",
          "model_name": "FloatProgressModel",
          "model_module_version": "1.5.0",
          "state": {
            "_dom_classes": [],
            "_model_module": "@jupyter-widgets/controls",
            "_model_module_version": "1.5.0",
            "_model_name": "FloatProgressModel",
            "_view_count": null,
            "_view_module": "@jupyter-widgets/controls",
            "_view_module_version": "1.5.0",
            "_view_name": "ProgressView",
            "bar_style": "success",
            "description": "",
            "description_tooltip": null,
            "layout": "IPY_MODEL_361b06786d11449bbb5bd02dfde2fa5e",
            "max": 1469,
            "min": 0,
            "orientation": "horizontal",
            "style": "IPY_MODEL_473cc46554e242868f7b3703073504c5",
            "value": 1469
          }
        },
        "1b60499733d7448293b4dd5034387e21": {
          "model_module": "@jupyter-widgets/controls",
          "model_name": "HTMLModel",
          "model_module_version": "1.5.0",
          "state": {
            "_dom_classes": [],
            "_model_module": "@jupyter-widgets/controls",
            "_model_module_version": "1.5.0",
            "_model_name": "HTMLModel",
            "_view_count": null,
            "_view_module": "@jupyter-widgets/controls",
            "_view_module_version": "1.5.0",
            "_view_name": "HTMLView",
            "description": "",
            "description_tooltip": null,
            "layout": "IPY_MODEL_900e066949854743acb73b191e1466b3",
            "placeholder": "​",
            "style": "IPY_MODEL_e416571b398f4c51860732bf63eaeb9e",
            "value": " 1.47k/1.47k [00:00&lt;00:00, 130kB/s]"
          }
        },
        "24f0b9923dd043cf8351f296bf62e26d": {
          "model_module": "@jupyter-widgets/base",
          "model_name": "LayoutModel",
          "model_module_version": "1.2.0",
          "state": {
            "_model_module": "@jupyter-widgets/base",
            "_model_module_version": "1.2.0",
            "_model_name": "LayoutModel",
            "_view_count": null,
            "_view_module": "@jupyter-widgets/base",
            "_view_module_version": "1.2.0",
            "_view_name": "LayoutView",
            "align_content": null,
            "align_items": null,
            "align_self": null,
            "border": null,
            "bottom": null,
            "display": null,
            "flex": null,
            "flex_flow": null,
            "grid_area": null,
            "grid_auto_columns": null,
            "grid_auto_flow": null,
            "grid_auto_rows": null,
            "grid_column": null,
            "grid_gap": null,
            "grid_row": null,
            "grid_template_areas": null,
            "grid_template_columns": null,
            "grid_template_rows": null,
            "height": null,
            "justify_content": null,
            "justify_items": null,
            "left": null,
            "margin": null,
            "max_height": null,
            "max_width": null,
            "min_height": null,
            "min_width": null,
            "object_fit": null,
            "object_position": null,
            "order": null,
            "overflow": null,
            "overflow_x": null,
            "overflow_y": null,
            "padding": null,
            "right": null,
            "top": null,
            "visibility": null,
            "width": null
          }
        },
        "9de36ee84da44af98e7e8ebeb840561f": {
          "model_module": "@jupyter-widgets/base",
          "model_name": "LayoutModel",
          "model_module_version": "1.2.0",
          "state": {
            "_model_module": "@jupyter-widgets/base",
            "_model_module_version": "1.2.0",
            "_model_name": "LayoutModel",
            "_view_count": null,
            "_view_module": "@jupyter-widgets/base",
            "_view_module_version": "1.2.0",
            "_view_name": "LayoutView",
            "align_content": null,
            "align_items": null,
            "align_self": null,
            "border": null,
            "bottom": null,
            "display": null,
            "flex": null,
            "flex_flow": null,
            "grid_area": null,
            "grid_auto_columns": null,
            "grid_auto_flow": null,
            "grid_auto_rows": null,
            "grid_column": null,
            "grid_gap": null,
            "grid_row": null,
            "grid_template_areas": null,
            "grid_template_columns": null,
            "grid_template_rows": null,
            "height": null,
            "justify_content": null,
            "justify_items": null,
            "left": null,
            "margin": null,
            "max_height": null,
            "max_width": null,
            "min_height": null,
            "min_width": null,
            "object_fit": null,
            "object_position": null,
            "order": null,
            "overflow": null,
            "overflow_x": null,
            "overflow_y": null,
            "padding": null,
            "right": null,
            "top": null,
            "visibility": null,
            "width": null
          }
        },
        "110731341a38481694a8370593f5e612": {
          "model_module": "@jupyter-widgets/controls",
          "model_name": "DescriptionStyleModel",
          "model_module_version": "1.5.0",
          "state": {
            "_model_module": "@jupyter-widgets/controls",
            "_model_module_version": "1.5.0",
            "_model_name": "DescriptionStyleModel",
            "_view_count": null,
            "_view_module": "@jupyter-widgets/base",
            "_view_module_version": "1.2.0",
            "_view_name": "StyleView",
            "description_width": ""
          }
        },
        "361b06786d11449bbb5bd02dfde2fa5e": {
          "model_module": "@jupyter-widgets/base",
          "model_name": "LayoutModel",
          "model_module_version": "1.2.0",
          "state": {
            "_model_module": "@jupyter-widgets/base",
            "_model_module_version": "1.2.0",
            "_model_name": "LayoutModel",
            "_view_count": null,
            "_view_module": "@jupyter-widgets/base",
            "_view_module_version": "1.2.0",
            "_view_name": "LayoutView",
            "align_content": null,
            "align_items": null,
            "align_self": null,
            "border": null,
            "bottom": null,
            "display": null,
            "flex": null,
            "flex_flow": null,
            "grid_area": null,
            "grid_auto_columns": null,
            "grid_auto_flow": null,
            "grid_auto_rows": null,
            "grid_column": null,
            "grid_gap": null,
            "grid_row": null,
            "grid_template_areas": null,
            "grid_template_columns": null,
            "grid_template_rows": null,
            "height": null,
            "justify_content": null,
            "justify_items": null,
            "left": null,
            "margin": null,
            "max_height": null,
            "max_width": null,
            "min_height": null,
            "min_width": null,
            "object_fit": null,
            "object_position": null,
            "order": null,
            "overflow": null,
            "overflow_x": null,
            "overflow_y": null,
            "padding": null,
            "right": null,
            "top": null,
            "visibility": null,
            "width": null
          }
        },
        "473cc46554e242868f7b3703073504c5": {
          "model_module": "@jupyter-widgets/controls",
          "model_name": "ProgressStyleModel",
          "model_module_version": "1.5.0",
          "state": {
            "_model_module": "@jupyter-widgets/controls",
            "_model_module_version": "1.5.0",
            "_model_name": "ProgressStyleModel",
            "_view_count": null,
            "_view_module": "@jupyter-widgets/base",
            "_view_module_version": "1.2.0",
            "_view_name": "StyleView",
            "bar_color": null,
            "description_width": ""
          }
        },
        "900e066949854743acb73b191e1466b3": {
          "model_module": "@jupyter-widgets/base",
          "model_name": "LayoutModel",
          "model_module_version": "1.2.0",
          "state": {
            "_model_module": "@jupyter-widgets/base",
            "_model_module_version": "1.2.0",
            "_model_name": "LayoutModel",
            "_view_count": null,
            "_view_module": "@jupyter-widgets/base",
            "_view_module_version": "1.2.0",
            "_view_name": "LayoutView",
            "align_content": null,
            "align_items": null,
            "align_self": null,
            "border": null,
            "bottom": null,
            "display": null,
            "flex": null,
            "flex_flow": null,
            "grid_area": null,
            "grid_auto_columns": null,
            "grid_auto_flow": null,
            "grid_auto_rows": null,
            "grid_column": null,
            "grid_gap": null,
            "grid_row": null,
            "grid_template_areas": null,
            "grid_template_columns": null,
            "grid_template_rows": null,
            "height": null,
            "justify_content": null,
            "justify_items": null,
            "left": null,
            "margin": null,
            "max_height": null,
            "max_width": null,
            "min_height": null,
            "min_width": null,
            "object_fit": null,
            "object_position": null,
            "order": null,
            "overflow": null,
            "overflow_x": null,
            "overflow_y": null,
            "padding": null,
            "right": null,
            "top": null,
            "visibility": null,
            "width": null
          }
        },
        "e416571b398f4c51860732bf63eaeb9e": {
          "model_module": "@jupyter-widgets/controls",
          "model_name": "DescriptionStyleModel",
          "model_module_version": "1.5.0",
          "state": {
            "_model_module": "@jupyter-widgets/controls",
            "_model_module_version": "1.5.0",
            "_model_name": "DescriptionStyleModel",
            "_view_count": null,
            "_view_module": "@jupyter-widgets/base",
            "_view_module_version": "1.2.0",
            "_view_name": "StyleView",
            "description_width": ""
          }
        },
        "64d8bbc6584d4eb18abf5145adde792a": {
          "model_module": "@jupyter-widgets/controls",
          "model_name": "HBoxModel",
          "model_module_version": "1.5.0",
          "state": {
            "_dom_classes": [],
            "_model_module": "@jupyter-widgets/controls",
            "_model_module_version": "1.5.0",
            "_model_name": "HBoxModel",
            "_view_count": null,
            "_view_module": "@jupyter-widgets/controls",
            "_view_module_version": "1.5.0",
            "_view_name": "HBoxView",
            "box_style": "",
            "children": [
              "IPY_MODEL_04d5c48111ff4adb92ad37ef1ec9f1ba",
              "IPY_MODEL_93f93a5937e24dffa2a9cba4fc932698",
              "IPY_MODEL_acf7fad6ee1e42d9bbcea41e54f5f747"
            ],
            "layout": "IPY_MODEL_69a270166fcb483d9d4ef4cad3496b78"
          }
        },
        "04d5c48111ff4adb92ad37ef1ec9f1ba": {
          "model_module": "@jupyter-widgets/controls",
          "model_name": "HTMLModel",
          "model_module_version": "1.5.0",
          "state": {
            "_dom_classes": [],
            "_model_module": "@jupyter-widgets/controls",
            "_model_module_version": "1.5.0",
            "_model_name": "HTMLModel",
            "_view_count": null,
            "_view_module": "@jupyter-widgets/controls",
            "_view_module_version": "1.5.0",
            "_view_name": "HTMLView",
            "description": "",
            "description_tooltip": null,
            "layout": "IPY_MODEL_cac301eedd084fe695e5b1f81c06be57",
            "placeholder": "​",
            "style": "IPY_MODEL_8e9919beeefa4475885ddd8220e64ba4",
            "value": "model.safetensors: 100%"
          }
        },
        "93f93a5937e24dffa2a9cba4fc932698": {
          "model_module": "@jupyter-widgets/controls",
          "model_name": "FloatProgressModel",
          "model_module_version": "1.5.0",
          "state": {
            "_dom_classes": [],
            "_model_module": "@jupyter-widgets/controls",
            "_model_module_version": "1.5.0",
            "_model_name": "FloatProgressModel",
            "_view_count": null,
            "_view_module": "@jupyter-widgets/controls",
            "_view_module_version": "1.5.0",
            "_view_name": "ProgressView",
            "bar_style": "success",
            "description": "",
            "description_tooltip": null,
            "layout": "IPY_MODEL_4fbb1fd2567c443bb0e1f86caf5625d5",
            "max": 115434268,
            "min": 0,
            "orientation": "horizontal",
            "style": "IPY_MODEL_fd010a320a494ea2a48360ca00df7560",
            "value": 115434268
          }
        },
        "acf7fad6ee1e42d9bbcea41e54f5f747": {
          "model_module": "@jupyter-widgets/controls",
          "model_name": "HTMLModel",
          "model_module_version": "1.5.0",
          "state": {
            "_dom_classes": [],
            "_model_module": "@jupyter-widgets/controls",
            "_model_module_version": "1.5.0",
            "_model_name": "HTMLModel",
            "_view_count": null,
            "_view_module": "@jupyter-widgets/controls",
            "_view_module_version": "1.5.0",
            "_view_name": "HTMLView",
            "description": "",
            "description_tooltip": null,
            "layout": "IPY_MODEL_2512d4be293746f3a6e16f0a01792a4d",
            "placeholder": "​",
            "style": "IPY_MODEL_429880a72e634adb89048091c530c516",
            "value": " 115M/115M [00:00&lt;00:00, 172MB/s]"
          }
        },
        "69a270166fcb483d9d4ef4cad3496b78": {
          "model_module": "@jupyter-widgets/base",
          "model_name": "LayoutModel",
          "model_module_version": "1.2.0",
          "state": {
            "_model_module": "@jupyter-widgets/base",
            "_model_module_version": "1.2.0",
            "_model_name": "LayoutModel",
            "_view_count": null,
            "_view_module": "@jupyter-widgets/base",
            "_view_module_version": "1.2.0",
            "_view_name": "LayoutView",
            "align_content": null,
            "align_items": null,
            "align_self": null,
            "border": null,
            "bottom": null,
            "display": null,
            "flex": null,
            "flex_flow": null,
            "grid_area": null,
            "grid_auto_columns": null,
            "grid_auto_flow": null,
            "grid_auto_rows": null,
            "grid_column": null,
            "grid_gap": null,
            "grid_row": null,
            "grid_template_areas": null,
            "grid_template_columns": null,
            "grid_template_rows": null,
            "height": null,
            "justify_content": null,
            "justify_items": null,
            "left": null,
            "margin": null,
            "max_height": null,
            "max_width": null,
            "min_height": null,
            "min_width": null,
            "object_fit": null,
            "object_position": null,
            "order": null,
            "overflow": null,
            "overflow_x": null,
            "overflow_y": null,
            "padding": null,
            "right": null,
            "top": null,
            "visibility": null,
            "width": null
          }
        },
        "cac301eedd084fe695e5b1f81c06be57": {
          "model_module": "@jupyter-widgets/base",
          "model_name": "LayoutModel",
          "model_module_version": "1.2.0",
          "state": {
            "_model_module": "@jupyter-widgets/base",
            "_model_module_version": "1.2.0",
            "_model_name": "LayoutModel",
            "_view_count": null,
            "_view_module": "@jupyter-widgets/base",
            "_view_module_version": "1.2.0",
            "_view_name": "LayoutView",
            "align_content": null,
            "align_items": null,
            "align_self": null,
            "border": null,
            "bottom": null,
            "display": null,
            "flex": null,
            "flex_flow": null,
            "grid_area": null,
            "grid_auto_columns": null,
            "grid_auto_flow": null,
            "grid_auto_rows": null,
            "grid_column": null,
            "grid_gap": null,
            "grid_row": null,
            "grid_template_areas": null,
            "grid_template_columns": null,
            "grid_template_rows": null,
            "height": null,
            "justify_content": null,
            "justify_items": null,
            "left": null,
            "margin": null,
            "max_height": null,
            "max_width": null,
            "min_height": null,
            "min_width": null,
            "object_fit": null,
            "object_position": null,
            "order": null,
            "overflow": null,
            "overflow_x": null,
            "overflow_y": null,
            "padding": null,
            "right": null,
            "top": null,
            "visibility": null,
            "width": null
          }
        },
        "8e9919beeefa4475885ddd8220e64ba4": {
          "model_module": "@jupyter-widgets/controls",
          "model_name": "DescriptionStyleModel",
          "model_module_version": "1.5.0",
          "state": {
            "_model_module": "@jupyter-widgets/controls",
            "_model_module_version": "1.5.0",
            "_model_name": "DescriptionStyleModel",
            "_view_count": null,
            "_view_module": "@jupyter-widgets/base",
            "_view_module_version": "1.2.0",
            "_view_name": "StyleView",
            "description_width": ""
          }
        },
        "4fbb1fd2567c443bb0e1f86caf5625d5": {
          "model_module": "@jupyter-widgets/base",
          "model_name": "LayoutModel",
          "model_module_version": "1.2.0",
          "state": {
            "_model_module": "@jupyter-widgets/base",
            "_model_module_version": "1.2.0",
            "_model_name": "LayoutModel",
            "_view_count": null,
            "_view_module": "@jupyter-widgets/base",
            "_view_module_version": "1.2.0",
            "_view_name": "LayoutView",
            "align_content": null,
            "align_items": null,
            "align_self": null,
            "border": null,
            "bottom": null,
            "display": null,
            "flex": null,
            "flex_flow": null,
            "grid_area": null,
            "grid_auto_columns": null,
            "grid_auto_flow": null,
            "grid_auto_rows": null,
            "grid_column": null,
            "grid_gap": null,
            "grid_row": null,
            "grid_template_areas": null,
            "grid_template_columns": null,
            "grid_template_rows": null,
            "height": null,
            "justify_content": null,
            "justify_items": null,
            "left": null,
            "margin": null,
            "max_height": null,
            "max_width": null,
            "min_height": null,
            "min_width": null,
            "object_fit": null,
            "object_position": null,
            "order": null,
            "overflow": null,
            "overflow_x": null,
            "overflow_y": null,
            "padding": null,
            "right": null,
            "top": null,
            "visibility": null,
            "width": null
          }
        },
        "fd010a320a494ea2a48360ca00df7560": {
          "model_module": "@jupyter-widgets/controls",
          "model_name": "ProgressStyleModel",
          "model_module_version": "1.5.0",
          "state": {
            "_model_module": "@jupyter-widgets/controls",
            "_model_module_version": "1.5.0",
            "_model_name": "ProgressStyleModel",
            "_view_count": null,
            "_view_module": "@jupyter-widgets/base",
            "_view_module_version": "1.2.0",
            "_view_name": "StyleView",
            "bar_color": null,
            "description_width": ""
          }
        },
        "2512d4be293746f3a6e16f0a01792a4d": {
          "model_module": "@jupyter-widgets/base",
          "model_name": "LayoutModel",
          "model_module_version": "1.2.0",
          "state": {
            "_model_module": "@jupyter-widgets/base",
            "_model_module_version": "1.2.0",
            "_model_name": "LayoutModel",
            "_view_count": null,
            "_view_module": "@jupyter-widgets/base",
            "_view_module_version": "1.2.0",
            "_view_name": "LayoutView",
            "align_content": null,
            "align_items": null,
            "align_self": null,
            "border": null,
            "bottom": null,
            "display": null,
            "flex": null,
            "flex_flow": null,
            "grid_area": null,
            "grid_auto_columns": null,
            "grid_auto_flow": null,
            "grid_auto_rows": null,
            "grid_column": null,
            "grid_gap": null,
            "grid_row": null,
            "grid_template_areas": null,
            "grid_template_columns": null,
            "grid_template_rows": null,
            "height": null,
            "justify_content": null,
            "justify_items": null,
            "left": null,
            "margin": null,
            "max_height": null,
            "max_width": null,
            "min_height": null,
            "min_width": null,
            "object_fit": null,
            "object_position": null,
            "order": null,
            "overflow": null,
            "overflow_x": null,
            "overflow_y": null,
            "padding": null,
            "right": null,
            "top": null,
            "visibility": null,
            "width": null
          }
        },
        "429880a72e634adb89048091c530c516": {
          "model_module": "@jupyter-widgets/controls",
          "model_name": "DescriptionStyleModel",
          "model_module_version": "1.5.0",
          "state": {
            "_model_module": "@jupyter-widgets/controls",
            "_model_module_version": "1.5.0",
            "_model_name": "DescriptionStyleModel",
            "_view_count": null,
            "_view_module": "@jupyter-widgets/base",
            "_view_module_version": "1.2.0",
            "_view_name": "StyleView",
            "description_width": ""
          }
        },
        "0fa092ad2be749d29c5975ad0744b242": {
          "model_module": "@jupyter-widgets/controls",
          "model_name": "HBoxModel",
          "model_module_version": "1.5.0",
          "state": {
            "_dom_classes": [],
            "_model_module": "@jupyter-widgets/controls",
            "_model_module_version": "1.5.0",
            "_model_name": "HBoxModel",
            "_view_count": null,
            "_view_module": "@jupyter-widgets/controls",
            "_view_module_version": "1.5.0",
            "_view_name": "HBoxView",
            "box_style": "",
            "children": [
              "IPY_MODEL_a1ce47932e0a421c98aa3706fdd9b3aa",
              "IPY_MODEL_83f72a515e934797b90b6ca0d1b66ee1",
              "IPY_MODEL_67800b6ffd504572ac9ebe45e1e8ed2a"
            ],
            "layout": "IPY_MODEL_ad215f957a914d0297b70b43b1081d2e"
          }
        },
        "a1ce47932e0a421c98aa3706fdd9b3aa": {
          "model_module": "@jupyter-widgets/controls",
          "model_name": "HTMLModel",
          "model_module_version": "1.5.0",
          "state": {
            "_dom_classes": [],
            "_model_module": "@jupyter-widgets/controls",
            "_model_module_version": "1.5.0",
            "_model_name": "HTMLModel",
            "_view_count": null,
            "_view_module": "@jupyter-widgets/controls",
            "_view_module_version": "1.5.0",
            "_view_name": "HTMLView",
            "description": "",
            "description_tooltip": null,
            "layout": "IPY_MODEL_a60e6e40aad1413fa51cfb592eef7861",
            "placeholder": "​",
            "style": "IPY_MODEL_0da9fe878d3042f6aea7a5abd832b652",
            "value": "model.safetensors: 100%"
          }
        },
        "83f72a515e934797b90b6ca0d1b66ee1": {
          "model_module": "@jupyter-widgets/controls",
          "model_name": "FloatProgressModel",
          "model_module_version": "1.5.0",
          "state": {
            "_dom_classes": [],
            "_model_module": "@jupyter-widgets/controls",
            "_model_module_version": "1.5.0",
            "_model_name": "FloatProgressModel",
            "_view_count": null,
            "_view_module": "@jupyter-widgets/controls",
            "_view_module_version": "1.5.0",
            "_view_name": "ProgressView",
            "bar_style": "success",
            "description": "",
            "description_tooltip": null,
            "layout": "IPY_MODEL_da698dab9270462cba9cbb037c0acf33",
            "max": 46807446,
            "min": 0,
            "orientation": "horizontal",
            "style": "IPY_MODEL_efa37a8402ff467cbcf2d970b8570f5e",
            "value": 46807446
          }
        },
        "67800b6ffd504572ac9ebe45e1e8ed2a": {
          "model_module": "@jupyter-widgets/controls",
          "model_name": "HTMLModel",
          "model_module_version": "1.5.0",
          "state": {
            "_dom_classes": [],
            "_model_module": "@jupyter-widgets/controls",
            "_model_module_version": "1.5.0",
            "_model_name": "HTMLModel",
            "_view_count": null,
            "_view_module": "@jupyter-widgets/controls",
            "_view_module_version": "1.5.0",
            "_view_name": "HTMLView",
            "description": "",
            "description_tooltip": null,
            "layout": "IPY_MODEL_13a23a4924494ac8a3b927750f475d80",
            "placeholder": "​",
            "style": "IPY_MODEL_8bea663c4b614385a90335a7918f3f31",
            "value": " 46.8M/46.8M [00:00&lt;00:00, 89.0MB/s]"
          }
        },
        "ad215f957a914d0297b70b43b1081d2e": {
          "model_module": "@jupyter-widgets/base",
          "model_name": "LayoutModel",
          "model_module_version": "1.2.0",
          "state": {
            "_model_module": "@jupyter-widgets/base",
            "_model_module_version": "1.2.0",
            "_model_name": "LayoutModel",
            "_view_count": null,
            "_view_module": "@jupyter-widgets/base",
            "_view_module_version": "1.2.0",
            "_view_name": "LayoutView",
            "align_content": null,
            "align_items": null,
            "align_self": null,
            "border": null,
            "bottom": null,
            "display": null,
            "flex": null,
            "flex_flow": null,
            "grid_area": null,
            "grid_auto_columns": null,
            "grid_auto_flow": null,
            "grid_auto_rows": null,
            "grid_column": null,
            "grid_gap": null,
            "grid_row": null,
            "grid_template_areas": null,
            "grid_template_columns": null,
            "grid_template_rows": null,
            "height": null,
            "justify_content": null,
            "justify_items": null,
            "left": null,
            "margin": null,
            "max_height": null,
            "max_width": null,
            "min_height": null,
            "min_width": null,
            "object_fit": null,
            "object_position": null,
            "order": null,
            "overflow": null,
            "overflow_x": null,
            "overflow_y": null,
            "padding": null,
            "right": null,
            "top": null,
            "visibility": null,
            "width": null
          }
        },
        "a60e6e40aad1413fa51cfb592eef7861": {
          "model_module": "@jupyter-widgets/base",
          "model_name": "LayoutModel",
          "model_module_version": "1.2.0",
          "state": {
            "_model_module": "@jupyter-widgets/base",
            "_model_module_version": "1.2.0",
            "_model_name": "LayoutModel",
            "_view_count": null,
            "_view_module": "@jupyter-widgets/base",
            "_view_module_version": "1.2.0",
            "_view_name": "LayoutView",
            "align_content": null,
            "align_items": null,
            "align_self": null,
            "border": null,
            "bottom": null,
            "display": null,
            "flex": null,
            "flex_flow": null,
            "grid_area": null,
            "grid_auto_columns": null,
            "grid_auto_flow": null,
            "grid_auto_rows": null,
            "grid_column": null,
            "grid_gap": null,
            "grid_row": null,
            "grid_template_areas": null,
            "grid_template_columns": null,
            "grid_template_rows": null,
            "height": null,
            "justify_content": null,
            "justify_items": null,
            "left": null,
            "margin": null,
            "max_height": null,
            "max_width": null,
            "min_height": null,
            "min_width": null,
            "object_fit": null,
            "object_position": null,
            "order": null,
            "overflow": null,
            "overflow_x": null,
            "overflow_y": null,
            "padding": null,
            "right": null,
            "top": null,
            "visibility": null,
            "width": null
          }
        },
        "0da9fe878d3042f6aea7a5abd832b652": {
          "model_module": "@jupyter-widgets/controls",
          "model_name": "DescriptionStyleModel",
          "model_module_version": "1.5.0",
          "state": {
            "_model_module": "@jupyter-widgets/controls",
            "_model_module_version": "1.5.0",
            "_model_name": "DescriptionStyleModel",
            "_view_count": null,
            "_view_module": "@jupyter-widgets/base",
            "_view_module_version": "1.2.0",
            "_view_name": "StyleView",
            "description_width": ""
          }
        },
        "da698dab9270462cba9cbb037c0acf33": {
          "model_module": "@jupyter-widgets/base",
          "model_name": "LayoutModel",
          "model_module_version": "1.2.0",
          "state": {
            "_model_module": "@jupyter-widgets/base",
            "_model_module_version": "1.2.0",
            "_model_name": "LayoutModel",
            "_view_count": null,
            "_view_module": "@jupyter-widgets/base",
            "_view_module_version": "1.2.0",
            "_view_name": "LayoutView",
            "align_content": null,
            "align_items": null,
            "align_self": null,
            "border": null,
            "bottom": null,
            "display": null,
            "flex": null,
            "flex_flow": null,
            "grid_area": null,
            "grid_auto_columns": null,
            "grid_auto_flow": null,
            "grid_auto_rows": null,
            "grid_column": null,
            "grid_gap": null,
            "grid_row": null,
            "grid_template_areas": null,
            "grid_template_columns": null,
            "grid_template_rows": null,
            "height": null,
            "justify_content": null,
            "justify_items": null,
            "left": null,
            "margin": null,
            "max_height": null,
            "max_width": null,
            "min_height": null,
            "min_width": null,
            "object_fit": null,
            "object_position": null,
            "order": null,
            "overflow": null,
            "overflow_x": null,
            "overflow_y": null,
            "padding": null,
            "right": null,
            "top": null,
            "visibility": null,
            "width": null
          }
        },
        "efa37a8402ff467cbcf2d970b8570f5e": {
          "model_module": "@jupyter-widgets/controls",
          "model_name": "ProgressStyleModel",
          "model_module_version": "1.5.0",
          "state": {
            "_model_module": "@jupyter-widgets/controls",
            "_model_module_version": "1.5.0",
            "_model_name": "ProgressStyleModel",
            "_view_count": null,
            "_view_module": "@jupyter-widgets/base",
            "_view_module_version": "1.2.0",
            "_view_name": "StyleView",
            "bar_color": null,
            "description_width": ""
          }
        },
        "13a23a4924494ac8a3b927750f475d80": {
          "model_module": "@jupyter-widgets/base",
          "model_name": "LayoutModel",
          "model_module_version": "1.2.0",
          "state": {
            "_model_module": "@jupyter-widgets/base",
            "_model_module_version": "1.2.0",
            "_model_name": "LayoutModel",
            "_view_count": null,
            "_view_module": "@jupyter-widgets/base",
            "_view_module_version": "1.2.0",
            "_view_name": "LayoutView",
            "align_content": null,
            "align_items": null,
            "align_self": null,
            "border": null,
            "bottom": null,
            "display": null,
            "flex": null,
            "flex_flow": null,
            "grid_area": null,
            "grid_auto_columns": null,
            "grid_auto_flow": null,
            "grid_auto_rows": null,
            "grid_column": null,
            "grid_gap": null,
            "grid_row": null,
            "grid_template_areas": null,
            "grid_template_columns": null,
            "grid_template_rows": null,
            "height": null,
            "justify_content": null,
            "justify_items": null,
            "left": null,
            "margin": null,
            "max_height": null,
            "max_width": null,
            "min_height": null,
            "min_width": null,
            "object_fit": null,
            "object_position": null,
            "order": null,
            "overflow": null,
            "overflow_x": null,
            "overflow_y": null,
            "padding": null,
            "right": null,
            "top": null,
            "visibility": null,
            "width": null
          }
        },
        "8bea663c4b614385a90335a7918f3f31": {
          "model_module": "@jupyter-widgets/controls",
          "model_name": "DescriptionStyleModel",
          "model_module_version": "1.5.0",
          "state": {
            "_model_module": "@jupyter-widgets/controls",
            "_model_module_version": "1.5.0",
            "_model_name": "DescriptionStyleModel",
            "_view_count": null,
            "_view_module": "@jupyter-widgets/base",
            "_view_module_version": "1.2.0",
            "_view_name": "StyleView",
            "description_width": ""
          }
        }
      }
    }
  },
  "nbformat": 4,
  "nbformat_minor": 5
}